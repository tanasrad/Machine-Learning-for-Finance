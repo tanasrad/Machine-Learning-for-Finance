{
  "nbformat": 4,
  "nbformat_minor": 0,
  "metadata": {
    "colab": {
      "name": "R-code-Machine.Learning.in.Finance",
      "provenance": [],
      "collapsed_sections": [],
      "authorship_tag": "ABX9TyMwXdocMlckbn9A8xpjuWUH",
      "include_colab_link": true
    },
    "kernelspec": {
      "name": "ir",
      "display_name": "R"
    }
  },
  "cells": [
    {
      "cell_type": "markdown",
      "metadata": {
        "id": "view-in-github",
        "colab_type": "text"
      },
      "source": [
        "<a href=\"https://colab.research.google.com/github/tanasrad/Machine-Learning-for-Finance/blob/master/R_code_Machine_Learning_in_Finance.ipynb\" target=\"_parent\"><img src=\"https://colab.research.google.com/assets/colab-badge.svg\" alt=\"Open In Colab\"/></a>"
      ]
    },
    {
      "cell_type": "markdown",
      "metadata": {
        "id": "9p4Vk9wZzja5",
        "colab_type": "text"
      },
      "source": [
        "## Machine Learning For Finance - Chapter 1\n",
        "\n",
        "Text from Klaas, J. (2019) - Machine Learning for Finance\n",
        "Code from same source, translated into R (where possible)"
      ]
    },
    {
      "cell_type": "markdown",
      "metadata": {
        "id": "g-rPRfXwzuMO",
        "colab_type": "text"
      },
      "source": [
        "## A logistic regressor\n",
        "\n",
        "The simplest neural network is a logistic regressor. Logistic regression takes in values of any range but outputs only values between zero and one. There are many applications for logistic regressors. One example use case is to predict the likelihood of a homeowner to default on a mortgage. We might take all kinds of values into account to predict the likelihood of default, the debtor’s salary, whether she has a car, the security of her job, etc., but the likelihood will always be a value between zero and one. Even the worst debtor ever cannot have a default likelihood above 100% and the best cannot go below 0%.\n",
        "\n",
        "To ensure we get the same result in all of our experiments, we have to set a random seed."
      ]
    },
    {
      "cell_type": "code",
      "metadata": {
        "id": "QLHInIHEeLDx",
        "colab_type": "code",
        "colab": {}
      },
      "source": [
        "set.seed(1)"
      ],
      "execution_count": null,
      "outputs": []
    },
    {
      "cell_type": "markdown",
      "metadata": {
        "id": "M5130vCCgXrS",
        "colab_type": "text"
      },
      "source": [
        "Since our dataset is quite small, we define it manually as numpy matrices."
      ]
    },
    {
      "cell_type": "code",
      "metadata": {
        "id": "354CfyLigaFx",
        "colab_type": "code",
        "colab": {
          "base_uri": "https://localhost:8080/",
          "height": 199
        },
        "outputId": "dfb7362a-2c77-4b29-b3f5-0c64ca54aa41"
      },
      "source": [
        "X = matrix(c(0,1,0,1,0,0,1,1,1,0,1,1),nrow=4, byrow=TRUE)\n",
        "print(X)\n",
        "y = matrix(c(0,1,1,0),byrow=FALSE)\n",
        "print(y)"
      ],
      "execution_count": null,
      "outputs": [
        {
          "output_type": "stream",
          "text": [
            "     [,1] [,2] [,3]\n",
            "[1,]    0    1    0\n",
            "[2,]    1    0    0\n",
            "[3,]    1    1    1\n",
            "[4,]    0    1    1\n",
            "     [,1]\n",
            "[1,]    0\n",
            "[2,]    1\n",
            "[3,]    1\n",
            "[4,]    0\n"
          ],
          "name": "stdout"
        }
      ]
    },
    {
      "cell_type": "markdown",
      "metadata": {
        "id": "pzp9lHqvhokE",
        "colab_type": "text"
      },
      "source": [
        "To compute the output of the regressor, we must first do a linear step. We compute the dot product of the input X and the weights W. This is the same as multiplying each value of X with its weight and then taking the sum. To this number, we add the bias b. Afterwards, we do a nonlinear step. In the nonlinear step, we run the linear intermediate product z through an activation function, in this case, the sigmoid function. The sigmoid function squishes input values to outputs between zero and one.\n",
        "\n",
        "We can define the sigmoid activation function as a function."
      ]
    },
    {
      "cell_type": "code",
      "metadata": {
        "id": "oKj7_NlwjUEa",
        "colab_type": "code",
        "colab": {}
      },
      "source": [
        "sigmoid <- function(x) {\n",
        "    1/(1+exp(-x))\n",
        "}"
      ],
      "execution_count": null,
      "outputs": []
    },
    {
      "cell_type": "markdown",
      "metadata": {
        "id": "6L71Hfe80D1i",
        "colab_type": "text"
      },
      "source": [
        "So far, so good. Now we need to initialize W. In this case, we actually know already which values W should have. But we cannot know for other problems where we do not know the function yet. So, we have to assign weights randomly. The weights are usually assigned randomly with a mean of zero. The bias is usually set to zero by default. By default, the random values generated are between zero and one, with a mean of 0.5 and a standard deviation of 0.5. We want the random values to have a mean of 0 and a standard deviation of 1, so we first multiply the values generated by 2 and then subtract 1."
      ]
    },
    {
      "cell_type": "code",
      "metadata": {
        "id": "jBvNGqPRj6j1",
        "colab_type": "code",
        "colab": {
          "base_uri": "https://localhost:8080/",
          "height": 107
        },
        "outputId": "951bbc0b-721a-4c44-c7b5-3faba228560e"
      },
      "source": [
        "W = 2*matrix(runif(3*1,0,1), nrow=3, ncol=1) - 1\n",
        "b = 0\n",
        "print(W); mean(W)"
      ],
      "execution_count": null,
      "outputs": [
        {
          "output_type": "stream",
          "text": [
            "           [,1]\n",
            "[1,]  0.8164156\n",
            "[2,] -0.5966361\n",
            "[3,]  0.7967794\n"
          ],
          "name": "stdout"
        },
        {
          "output_type": "display_data",
          "data": {
            "text/plain": [
              "[1] 0.3388529"
            ],
            "text/latex": "0.338852937333286",
            "text/markdown": "0.338852937333286",
            "text/html": [
              "0.338852937333286"
            ]
          },
          "metadata": {
            "tags": []
          }
        }
      ]
    },
    {
      "cell_type": "markdown",
      "metadata": {
        "id": "DB1i1zv1rza0",
        "colab_type": "text"
      },
      "source": [
        "Now that all variables are set, we can do the linear step:"
      ]
    },
    {
      "cell_type": "code",
      "metadata": {
        "id": "sHTEpcgSr2Fa",
        "colab_type": "code",
        "colab": {
          "base_uri": "https://localhost:8080/",
          "height": 108
        },
        "outputId": "cef6eab7-7c34-4fb8-8aa1-2647c3d43b58"
      },
      "source": [
        "z = X%*%W + b; print(z)"
      ],
      "execution_count": null,
      "outputs": [
        {
          "output_type": "stream",
          "text": [
            "           [,1]\n",
            "[1,] -0.5966361\n",
            "[2,]  0.8164156\n",
            "[3,]  1.0165588\n",
            "[4,]  0.2001432\n"
          ],
          "name": "stdout"
        }
      ]
    },
    {
      "cell_type": "markdown",
      "metadata": {
        "id": "4L2XoIxtsxdf",
        "colab_type": "text"
      },
      "source": [
        "And the nonlinear step:"
      ]
    },
    {
      "cell_type": "code",
      "metadata": {
        "id": "TtYbIEKFsx5X",
        "colab_type": "code",
        "colab": {}
      },
      "source": [
        "A = sigmoid(z)"
      ],
      "execution_count": null,
      "outputs": []
    },
    {
      "cell_type": "markdown",
      "metadata": {
        "id": "u_KWYvkYs2zv",
        "colab_type": "text"
      },
      "source": [
        "If we print out A now, we get the following output:"
      ]
    },
    {
      "cell_type": "code",
      "metadata": {
        "id": "6fCr27LKs3yQ",
        "colab_type": "code",
        "colab": {
          "base_uri": "https://localhost:8080/",
          "height": 108
        },
        "outputId": "77c7ae6b-3499-4072-e115-660db4b69725"
      },
      "source": [
        "print(A)"
      ],
      "execution_count": null,
      "outputs": [
        {
          "output_type": "stream",
          "text": [
            "          [,1]\n",
            "[1,] 0.3551137\n",
            "[2,] 0.6934749\n",
            "[3,] 0.7343018\n",
            "[4,] 0.5498694\n"
          ],
          "name": "stdout"
        }
      ]
    },
    {
      "cell_type": "markdown",
      "metadata": {
        "id": "2qU2xhg20HZx",
        "colab_type": "text"
      },
      "source": [
        "This looks nothing like our desired output y at all! Clearly, our regressor is representing some function, but it is quite far away from the function we want. To better approximate our desired function, we have to tweak the weights W and the bias b to get better results.\n",
        "\n",
        "In this case, our problem is a binary classification problem, so we will use the binary cross entropy loss:\n"
      ]
    },
    {
      "cell_type": "markdown",
      "metadata": {
        "id": "2nd0pmbatKpH",
        "colab_type": "text"
      },
      "source": [
        "$$\n",
        "D_{BCE}(y,\\hat{y}) = - 1/N \\sum_{i=i}^{N}\\left[y_i \\log(\\hat{y_i})+(1-y_i)\\log(1-\\hat{y_i})\\right]\n",
        "$$\n",
        "Let's go through this step by step.\n",
        "\n",
        "\n",
        "1.   $D_{BCE}(y,\\hat{y})$ is the distance function for binary cross entropy loss.\n",
        "2.   $-1/N \\sum_{i=1}^{N}$ The loss over a batch of N examples is the average loss of all examples.\n",
        "3.   $y_i*\\log\\hat{y}_i$ This part of the loss only comes into play if the true value, $y_i$ is 1, we want $\\hat{y_i}$ to be as close to 1 as possible, to achieve a low loss.\n",
        "4.   $(1-y_i)\\log(1-\\hat{y_i})$ This part of the loss comes into play if $y_i$ is 0. If so, we want $\\hat{y_i}$ to be close to 0 as well. \n",
        "\n",
        "This loss function is implemented as follows:\n",
        "\n"
      ]
    },
    {
      "cell_type": "code",
      "metadata": {
        "id": "kCmwNQuUwq7W",
        "colab_type": "code",
        "colab": {}
      },
      "source": [
        "bce_loss <- function(y,y_hat) {\n",
        "    N = nrow(y)\n",
        "    -1/N * sum((y*log(y_hat) + (1-y)*log(1-y_hat)))\n",
        "}"
      ],
      "execution_count": null,
      "outputs": []
    },
    {
      "cell_type": "code",
      "metadata": {
        "id": "db5w-Ix-xrnB",
        "colab_type": "code",
        "colab": {
          "base_uri": "https://localhost:8080/",
          "height": 35
        },
        "outputId": "e3c59c74-aea4-4017-9bd4-f1a0bf7d9b4d"
      },
      "source": [
        "bce_loss(y,A)"
      ],
      "execution_count": null,
      "outputs": [
        {
          "output_type": "display_data",
          "data": {
            "text/plain": [
              "[1] 0.4779436"
            ],
            "text/latex": "0.477943558983228",
            "text/markdown": "0.477943558983228",
            "text/html": [
              "0.477943558983228"
            ]
          },
          "metadata": {
            "tags": []
          }
        }
      ]
    },
    {
      "cell_type": "markdown",
      "metadata": {
        "id": "0AclX2kGy_IF",
        "colab_type": "text"
      },
      "source": [
        "## Backpropagation\n",
        "\n",
        "To update the parameters, we need to calculate the derivative of the loss function with respect to the weights and biases. If you imagine the parameters of our models like the geo coordinates in our mountain analogy, calculating the loss derivative with respect to a parameter is like checking the mountain slope in the direction north to see whether you should go north or south.\n",
        "\n",
        "Note: to keep things simple, we refer to the derivative of the loss function to any variable as $d$variable. For example we write the derivative of the loss function with respect to the weights as $dW$.\n",
        "\n",
        "To calculate the gradient with respect to different parameters of our model, we can make use of the chain rule. You might remember the chain rule as:\n",
        "\n",
        "$$(f(g(x)))' = g(x)' * f'(g(x))$$\n",
        "Sometimes also written as:$$\\frac{dy}{dx} = \\frac{dy}{du} \\frac{du}{dx}$$\n",
        "\n",
        "What the chain rule basically says is that if you want to take the derivative through a number of nested functions you multiply the derivative of the inner function with the derivative of the outer function. This is useful since neural networks, and our logistic regressor, are nested functions. The input goes through the linear step, a function of input, weights and biases. The output of the linear step, $z$ goes through the activation function.\n",
        "\n",
        "So when we compute the loss derivative with respect to weights and bias, we first compute the loss derivative with respect to the output of the linear step $z$, and use it to compute the $dW$. In code it looks like this:\n",
        "\n",
        "```\n",
        "dz = (A - y)\n",
        "\n",
        "dW = 1/N * t(X) %*% dz\n",
        "\n",
        "db = 1/N * sum(dz,axis=0,keepdims=True)\n",
        "```"
      ]
    },
    {
      "cell_type": "markdown",
      "metadata": {
        "id": "RiQcJVtJzc1t",
        "colab_type": "text"
      },
      "source": [
        "## Parameter updates\n",
        "\n",
        "Now we have the gradients, how do we improve our model? Or, to stay with our mountain analogy, now that we know that the mountain goes up in the North direction and up in the East direction, where do we go? To the South and to the West of course! Mathematically speaking, we go in the opposite direction than the gradient. If the gradient is positive with respect to a parameter, speak the slope is upward, we reduce the parameter. If it is negative, speak downward sloping, we increase it. When our slope is steeper, we move our gradient more.\n",
        "\n",
        "The update rule for a parameter p then goes like:$$p = p - \\alpha * dp$$\n",
        "\n",
        "Where $p$ is a model parameter (either a weight or a bias), $dp$ is the loss derivative with respect to $p$ and $\\alpha$ is the **learning rate**. The learning rate is something like the gas pedal in a car. It sets how much we want to apply the gradient updates. It is one of those hyper parameters that we have to set manually. We will discuss it in the next chapter."
      ]
    },
    {
      "cell_type": "code",
      "metadata": {
        "id": "8j8pCqDsFCpI",
        "colab_type": "code",
        "colab": {}
      },
      "source": [
        "# Randomly initialize the weights\n",
        "W <- 2*matrix(runif(3*1,0,1), nrow=3, ncol=1) - 1\n",
        "b <- 0\n",
        "\n",
        "# Set the learning rate alpha to 1\n",
        "alpha <- 1\n",
        "\n",
        "# We will train for 20 epochs\n",
        "epochs <- 20\n",
        "\n",
        "# Count the number of training examples we have (4)\n",
        "N = nrow(y)"
      ],
      "execution_count": null,
      "outputs": []
    },
    {
      "cell_type": "markdown",
      "metadata": {
        "id": "PsxCId4m0DQi",
        "colab_type": "text"
      },
      "source": [
        "In the loop below we do multiple forward and backward passes and apply the gradient descent update rule."
      ]
    },
    {
      "cell_type": "code",
      "metadata": {
        "id": "M0Oy166A0EK_",
        "colab_type": "code",
        "colab": {
          "base_uri": "https://localhost:8080/",
          "height": 381
        },
        "outputId": "01af45e1-e6ac-4cc2-ad45-45a8eac813f0"
      },
      "source": [
        "losses <- rep(NA,epochs) # Initialise an empty list for the loop (length of epochs)\n",
        "for (i in 1:epochs) {\n",
        "    # Do the linear step\n",
        "    z <- X%*%W + b\n",
        "\n",
        "    # Do the non linear step\n",
        "    A <- sigmoid(z)\n",
        "\n",
        "    # Calculate the loss\n",
        "    loss <- bce_loss(y,A)\n",
        "\n",
        "    # Keep track of the loss\n",
        "    print(paste0(\"Epoch: \", i, \" Loss: \", loss))\n",
        "    losses <- append(losses,loss)\n",
        "\n",
        "    # Back propagate\n",
        "    dz <- (A-y)\n",
        "\n",
        "    # ... calculate loss derivative with respect to weights\n",
        "    dw <- 1/N * t(X) %*% dz\n",
        "\n",
        "    # ... calculate loss derivative with respect to bias\n",
        "    db <- 1/N * colSums(dz)\n",
        "\n",
        "    # update parameters\n",
        "    W <- W - alpha * dw\n",
        "    b <- b - alpha * db\n",
        "}"
      ],
      "execution_count": null,
      "outputs": [
        {
          "output_type": "stream",
          "text": [
            "[1] \"Epoch: 1 Loss: 0.177862079420977\"\n",
            "[1] \"Epoch: 2 Loss: 0.17096394500881\"\n",
            "[1] \"Epoch: 3 Loss: 0.16457854980946\"\n",
            "[1] \"Epoch: 4 Loss: 0.158650900116939\"\n",
            "[1] \"Epoch: 5 Loss: 0.153133568169585\"\n",
            "[1] \"Epoch: 6 Loss: 0.147985442349833\"\n",
            "[1] \"Epoch: 7 Loss: 0.143170714874616\"\n",
            "[1] \"Epoch: 8 Loss: 0.138658056606617\"\n",
            "[1] \"Epoch: 9 Loss: 0.134419940273474\"\n",
            "[1] \"Epoch: 10 Loss: 0.130432082147659\"\n",
            "[1] \"Epoch: 11 Loss: 0.126672978871157\"\n",
            "[1] \"Epoch: 12 Loss: 0.123123521156851\"\n",
            "[1] \"Epoch: 13 Loss: 0.11976666996469\"\n",
            "[1] \"Epoch: 14 Loss: 0.116587183730277\"\n",
            "[1] \"Epoch: 15 Loss: 0.113571387533718\"\n",
            "[1] \"Epoch: 16 Loss: 0.110706976898496\"\n",
            "[1] \"Epoch: 17 Loss: 0.107982850323846\"\n",
            "[1] \"Epoch: 18 Loss: 0.105388965769451\"\n",
            "[1] \"Epoch: 19 Loss: 0.102916217196136\"\n",
            "[1] \"Epoch: 20 Loss: 0.100556327971927\"\n"
          ],
          "name": "stdout"
        }
      ]
    },
    {
      "cell_type": "code",
      "metadata": {
        "id": "nribSAif73Kw",
        "colab_type": "code",
        "colab": {
          "base_uri": "https://localhost:8080/",
          "height": 437
        },
        "outputId": "f489b6e1-34b0-4a8b-f4ff-8c02af0b1301"
      },
      "source": [
        "plot(losses)"
      ],
      "execution_count": null,
      "outputs": [
        {
          "output_type": "display_data",
          "data": {
            "image/png": "[encoded data removed]",
            "text/plain": [
              "plot without title"
            ]
          },
          "metadata": {
            "tags": [],
            "image/png": {
              "width": 420,
              "height": 420
            }
          }
        }
      ]
    },
    {
      "cell_type": "markdown",
      "metadata": {
        "id": "3HJi-7MK9IyH",
        "colab_type": "text"
      },
      "source": [
        "## A deeper network \n",
        "We established earlier that in order to approximate more complex functions, we need bigger, deeper networks. Creating a deeper networks works by stacking layers on top of each other.\n",
        "\n",
        "In this section we will build a 2 layer neural network\n",
        "\n",
        "The input gets multiplied with the first set of weights $W_1$, producing an intermediate product $z_1$ and then run through an activation function to produce the first layers activations $A_1$. These activations then get multiplied with a second layer of weights $W_2$, producing an intermediate product $z_2$ which gets run through a second activation function which produces the output $A_2$ of our neural net."
      ]
    },
    {
      "cell_type": "code",
      "metadata": {
        "id": "0bEJ1F80Qed6",
        "colab_type": "code",
        "colab": {}
      },
      "source": [
        "sigmoid <- function(x) {\n",
        "    # Calculates the sigmoid activation of a given input x\n",
        "    # See: https://en.wikipedia.org/wiki/Sigmoid_function\n",
        "    return(1/(1+exp(-x)))\n",
        "}\n",
        "\n",
        "bce_loss <- function(y,y_hat) {\n",
        "    \"\n",
        "    Calculates the logistic loss between a prediction y_hat and the labels y\n",
        "    See: http://wiki.fast.ai/index.php/Log_Loss\n",
        "\n",
        "    We need to clip values that get too close to zero to avoid zeroing out. \n",
        "    Zeroing out is when a number gets so small that the computer replaces it with 0.\n",
        "    Therefore, we clip numbers to a minimum value.\n",
        "    \"\n",
        "    minval = 0.000000000001\n",
        "    N = nrow(y)\n",
        "    y_hat = clip(y_hat,.min=minval)\n",
        "    return(-1/N * sum((y*log(y_hat) + (1-y)*log(1-y_hat))))\n",
        "}\n",
        "\n",
        "bce_loss_derivative <- function(y,y_hat) {\n",
        "    \"\n",
        "    Calculates the gradient (derivative) of the log loss between point y and y_hat\n",
        "    See: https://stats.stackexchange.com/questions/219241/gradient-for-logistic-loss-function\n",
        "    \"\n",
        "    return(y_hat-y)\n",
        "}"
      ],
      "execution_count": null,
      "outputs": []
    },
    {
      "cell_type": "code",
      "metadata": {
        "id": "rl8RBTtBVvWL",
        "colab_type": "code",
        "colab": {}
      },
      "source": [
        "install.packages(\"hash\")\n",
        "library(hash)"
      ],
      "execution_count": null,
      "outputs": []
    },
    {
      "cell_type": "code",
      "metadata": {
        "id": "0cJfnUamSdDT",
        "colab_type": "code",
        "colab": {}
      },
      "source": [
        "forward_prop <- function(model,a0) {\n",
        "\"\n",
        "Forward propagates through the model, stores results in cache.\n",
        "    See: https://stats.stackexchange.com/questions/147954/neural-network-forward-propagation\n",
        "    A0 is the activation at layer zero, it is the same as X\n",
        "\"\n",
        "    # Load parameters from model\n",
        "    W1 <- model['W1']\n",
        "    b1 <- model['b1']\n",
        "    W2 <- model['W2']\n",
        "    b2 <- model['b2']\n",
        "\n",
        "    # Linear step\n",
        "    z1 = a0%*%W1 + b1\n",
        "\n",
        "    # First activation function\n",
        "    a1 = tanh(z1)\n",
        "    \n",
        "    # Second linear step\n",
        "    z2 = a1%*%W2 + b2\n",
        "\n",
        "    # Second activation function\n",
        "    a2 = sigmoid(z2)\n",
        "\n",
        "    cache <- hash()\n",
        "    cache[['a0']] <- a0\n",
        "    cache[['z1']] <- z1\n",
        "    cache[['a1']] <- a1\n",
        "    cache[['z2']] <- z2\n",
        "    cache[['a2']] <- a2\n",
        "    \n",
        "    return(cache)\n",
        "}"
      ],
      "execution_count": null,
      "outputs": []
    },
    {
      "cell_type": "code",
      "metadata": {
        "id": "Nbi-9nryVyUt",
        "colab_type": "code",
        "colab": {}
      },
      "source": [
        "tanh_derivative <- function(x) {\n",
        "    \"\n",
        "    Calculates the derivative of the tanh function that is used as the first activation function\n",
        "    See: https://socratic.org/questions/what-is-the-derivative-of-tanh-x\n",
        "    \"\n",
        "    return(1 - power(x, 2))\n",
        "}"
      ],
      "execution_count": null,
      "outputs": []
    },
    {
      "cell_type": "code",
      "metadata": {
        "id": "7bntZ_GgWBs4",
        "colab_type": "code",
        "colab": {}
      },
      "source": [
        "backward_prop <- function(model,cache,y) {\n",
        "    \"\n",
        "    Backward propagates through the model to calculate gradients.\n",
        "    Stores gradients in grads dictionary.\n",
        "    See: https://en.wikipedia.org/wiki/Backpropagation\n",
        "    \"\n",
        "    # Load parameters from model\n",
        "    W1 <- model['W1']\n",
        "    b1 <- model['b1']\n",
        "    W2 <- model['W2']\n",
        "    b2 <- model['b2']\n",
        "\n",
        "    # Load forward propagation results\n",
        "    a0 <- cache['a0']\n",
        "    a1 <- cache['a1']\n",
        "    a2 <- cache['a2']\n",
        "\n",
        "\n",
        "    # Backpropagation\n",
        "    # Calculate loss derivative with respect to output\n",
        "    dz2 <- bce_loss_derivative(y=y,y_hat=a2)\n",
        "\n",
        "    # Calculate loss derivative with respect to second layer weights\n",
        "    dW2 <- t(a1)%*%dz2\n",
        "    \n",
        "    # Calculate loss derivative with respect to second layer bias\n",
        "    db2 <- colSums(dz2[1])\n",
        "    \n",
        "    # Calculate loss derivative with respect to first layer\n",
        "    dz1 <- dz2%*%t(W2) * tanh_derivative(a1)\n",
        "    \n",
        "    # Calculate loss derivative with respect to first layer weights\n",
        "    dW1 <- t(a0)%*%dz1\n",
        "    \n",
        "    # Calculate loss derivative with respect to first layer bias\n",
        "    db1 <- colSums(dz1[1])\n",
        "    \n",
        "    # Store gradients\n",
        "    grads <- hash()\n",
        "    grads[['dW2']] <- dW2\n",
        "    grads[['db2']] <- db2\n",
        "    grads[['dW1']] <- dW1\n",
        "    grads[['db1']] <- db1\n",
        "\n",
        "    return(grads)\n",
        "}"
      ],
      "execution_count": null,
      "outputs": []
    },
    {
      "cell_type": "markdown",
      "metadata": {
        "id": "9S0omDjwjNse",
        "colab_type": "text"
      },
      "source": [
        "Stopping here ... data set make_moons not available for R. "
      ]
    },
    {
      "cell_type": "markdown",
      "metadata": {
        "id": "HQWzpenAM9Yv",
        "colab_type": "text"
      },
      "source": [
        "## Keras\n",
        "In this section we will build the same model with the Keras Sequential API. Code/Text from https://blog.rstudio.com/2017/09/05/keras-for-r/ written by JJ Allaire. "
      ]
    },
    {
      "cell_type": "code",
      "metadata": {
        "id": "GpXvaMoQNIs2",
        "colab_type": "code",
        "colab": {
          "base_uri": "https://localhost:8080/",
          "height": 72
        },
        "outputId": "16eee83e-3399-4142-cc9d-9b4021c2d312"
      },
      "source": [
        "install.packages('keras', repos='http://cran.rstudio.com/')\n",
        "library(keras)"
      ],
      "execution_count": null,
      "outputs": [
        {
          "output_type": "stream",
          "text": [
            "Installing package into ‘/usr/local/lib/R/site-library’\n",
            "(as ‘lib’ is unspecified)\n",
            "\n"
          ],
          "name": "stderr"
        }
      ]
    },
    {
      "cell_type": "code",
      "metadata": {
        "id": "SIe7m4y6NqaS",
        "colab_type": "code",
        "colab": {}
      },
      "source": [
        "# Generate a dataset and plot it\n",
        "set.seed(0)\n",
        "mnist <- dataset_mnist()\n",
        "x_train <- mnist$train$x\n",
        "y_train <- mnist$train$y\n",
        "x_test <- mnist$test$x\n",
        "y_test <- mnist$test$y"
      ],
      "execution_count": null,
      "outputs": []
    },
    {
      "cell_type": "markdown",
      "metadata": {
        "id": "GC00rO0BPeND",
        "colab_type": "text"
      },
      "source": [
        "To prepare the data for training we convert the 3-d arrays into matrices by reshaping width and height into a single dimension (28x28 images are flattened into length 784 vectors). Then, we convert the grayscale values from integers ranging between 0 to 255 into floating point values ranging between 0 and 1:"
      ]
    },
    {
      "cell_type": "code",
      "metadata": {
        "id": "d2_8OQ7xPgBG",
        "colab_type": "code",
        "colab": {}
      },
      "source": [
        "# reshape\n",
        "dim(x_train) <- c(nrow(x_train), 784)\n",
        "dim(x_test) <- c(nrow(x_test), 784)\n",
        "# rescale\n",
        "x_train <- x_train / 255\n",
        "x_test <- x_test / 255"
      ],
      "execution_count": null,
      "outputs": []
    },
    {
      "cell_type": "markdown",
      "metadata": {
        "id": "iPCnKpfwPmha",
        "colab_type": "text"
      },
      "source": [
        "The y data is an integer vector with values ranging from 0 to 9. To prepare this data for training we one-hot encode the vectors into binary class matrices using the Keras `to_categorical()` function:"
      ]
    },
    {
      "cell_type": "code",
      "metadata": {
        "id": "bwlJJPeDPqq7",
        "colab_type": "code",
        "colab": {}
      },
      "source": [
        "y_train <- to_categorical(y_train, 10)\n",
        "y_test <- to_categorical(y_test, 10)"
      ],
      "execution_count": null,
      "outputs": []
    },
    {
      "cell_type": "code",
      "metadata": {
        "id": "OHlNiJU2O7TH",
        "colab_type": "code",
        "colab": {}
      },
      "source": [
        "model <- keras_model_sequential() \n",
        "model %>% \n",
        "  layer_dense(units = 256, activation = \"relu\", input_shape = c(784)) %>% \n",
        "  layer_dropout(rate = 0.4) %>% \n",
        "  layer_dense(units = 128, activation = \"relu\") %>%\n",
        "  layer_dropout(rate = 0.3) %>%\n",
        "  layer_dense(units = 10, activation = \"softmax\")"
      ],
      "execution_count": null,
      "outputs": []
    },
    {
      "cell_type": "markdown",
      "metadata": {
        "id": "8tuTIgCbmTYl",
        "colab_type": "text"
      },
      "source": [
        "The input_shape argument to the first layer specifies the shape of the input data (a length 784 numeric vector representing a grayscale image). The final layer outputs a length 10 numeric vector (probabilities for each digit) using a softmax activation function.\n",
        "\n",
        "Use the `summary()` function to print the details of the model:"
      ]
    },
    {
      "cell_type": "code",
      "metadata": {
        "id": "__c7GGE4mXXK",
        "colab_type": "code",
        "colab": {
          "base_uri": "https://localhost:8080/",
          "height": 345
        },
        "outputId": "718bbad6-6e70-47fd-e0a1-5f4a1519d3d7"
      },
      "source": [
        "summary(model)"
      ],
      "execution_count": null,
      "outputs": [
        {
          "output_type": "stream",
          "text": [
            "Model: \"sequential_1\"\n",
            "________________________________________________________________________________\n",
            "Layer (type)                        Output Shape                    Param #     \n",
            "================================================================================\n",
            "dense_5 (Dense)                     (None, 256)                     200960      \n",
            "________________________________________________________________________________\n",
            "dropout_3 (Dropout)                 (None, 256)                     0           \n",
            "________________________________________________________________________________\n",
            "dense_6 (Dense)                     (None, 128)                     32896       \n",
            "________________________________________________________________________________\n",
            "dropout_4 (Dropout)                 (None, 128)                     0           \n",
            "________________________________________________________________________________\n",
            "dense_7 (Dense)                     (None, 10)                      1290        \n",
            "================================================================================\n",
            "Total params: 235,146\n",
            "Trainable params: 235,146\n",
            "Non-trainable params: 0\n",
            "________________________________________________________________________________\n"
          ],
          "name": "stdout"
        }
      ]
    },
    {
      "cell_type": "markdown",
      "metadata": {
        "id": "mhUHYrrGmaW-",
        "colab_type": "text"
      },
      "source": [
        "Next, compile the model with appropriate loss function, optimizer, and metrics:"
      ]
    },
    {
      "cell_type": "code",
      "metadata": {
        "id": "qwlPhwiKma--",
        "colab_type": "code",
        "colab": {}
      },
      "source": [
        "model %>% compile(\n",
        "  loss = \"categorical_crossentropy\",\n",
        "  optimizer = optimizer_rmsprop(),\n",
        "  metrics = c(\"accuracy\")\n",
        ")"
      ],
      "execution_count": null,
      "outputs": []
    },
    {
      "cell_type": "markdown",
      "metadata": {
        "id": "zsV7FJ6_mhj2",
        "colab_type": "text"
      },
      "source": [
        "Use the fit() function to train the model for 30 epochs using batches of 128 images:"
      ]
    },
    {
      "cell_type": "code",
      "metadata": {
        "id": "6_Pgt1n_mi0G",
        "colab_type": "code",
        "colab": {}
      },
      "source": [
        "history <- model %>% fit(\n",
        "  x_train, y_train, \n",
        "  epochs = 30, batch_size = 128, \n",
        "  validation_split = 0.2\n",
        ")"
      ],
      "execution_count": null,
      "outputs": []
    },
    {
      "cell_type": "markdown",
      "metadata": {
        "id": "h5OtMk23mlAs",
        "colab_type": "text"
      },
      "source": [
        "The history object returned by `fit()` includes loss and accuracy metrics which we can plot:"
      ]
    },
    {
      "cell_type": "code",
      "metadata": {
        "id": "xwgQjG6pmolX",
        "colab_type": "code",
        "colab": {
          "base_uri": "https://localhost:8080/",
          "height": 474
        },
        "outputId": "1c5b5066-0781-46f1-aad4-9d15e4a5c2a9"
      },
      "source": [
        "plot(history)"
      ],
      "execution_count": null,
      "outputs": [
        {
          "output_type": "stream",
          "text": [
            "`geom_smooth()` using formula 'y ~ x'\n",
            "\n"
          ],
          "name": "stderr"
        },
        {
          "output_type": "display_data",
          "data": {
            "image/png": "[encoded data removed]",
            "text/plain": [
              "plot without title"
            ]
          },
          "metadata": {
            "tags": [],
            "image/png": {
              "width": 420,
              "height": 420
            }
          }
        }
      ]
    },
    {
      "cell_type": "markdown",
      "metadata": {
        "id": "3ocvACImm4Fc",
        "colab_type": "text"
      },
      "source": [
        "Evaluate the model’s performance on the test data:"
      ]
    },
    {
      "cell_type": "code",
      "metadata": {
        "id": "TYAkHdzPm9S-",
        "colab_type": "code",
        "colab": {
          "base_uri": "https://localhost:8080/",
          "height": 35
        },
        "outputId": "6bc49272-dd31-47c6-c156-33e9417a3d3f"
      },
      "source": [
        "model %>% evaluate(x_test, y_test,verbose = 0)"
      ],
      "execution_count": null,
      "outputs": [
        {
          "output_type": "display_data",
          "data": {
            "text/plain": [
              "     loss  accuracy \n",
              "0.1018035 0.9811000 "
            ],
            "text/latex": "\\begin{description*}\n\\item[loss] 0.101803548634052\n\\item[accuracy] 0.981100022792816\n\\end{description*}\n",
            "text/markdown": "loss\n:   0.101803548634052accuracy\n:   0.981100022792816\n\n",
            "text/html": [
              "<style>\n",
              ".dl-inline {width: auto; margin:0; padding: 0}\n",
              ".dl-inline>dt, .dl-inline>dd {float: none; width: auto; display: inline-block}\n",
              ".dl-inline>dt::after {content: \":\\0020\"; padding-right: .5ex}\n",
              ".dl-inline>dt:not(:first-of-type) {padding-left: .5ex}\n",
              "</style><dl class=dl-inline><dt>loss</dt><dd>0.101803548634052</dd><dt>accuracy</dt><dd>0.981100022792816</dd></dl>\n"
            ]
          },
          "metadata": {
            "tags": []
          }
        }
      ]
    },
    {
      "cell_type": "markdown",
      "metadata": {
        "id": "fX5Q8N4AnCus",
        "colab_type": "text"
      },
      "source": [
        "Generate predictions on new data:"
      ]
    },
    {
      "cell_type": "code",
      "metadata": {
        "id": "cpyZz6gLnD9j",
        "colab_type": "code",
        "colab": {
          "base_uri": "https://localhost:8080/",
          "height": 104
        },
        "outputId": "ad59829b-1894-4255-d36d-4ba7337d8568"
      },
      "source": [
        "model %>% predict_classes(x_test)"
      ],
      "execution_count": null,
      "outputs": [
        {
          "output_type": "display_data",
          "data": {
            "text/plain": [
              "    [1] 7 2 1 0 4 1 4 9 5 9 0 6 9 0 1 5 9 7 3 4 9 6 6 5 4 0 7 4 0 1 3 1 3 4 7 2\n",
              "   [37] 7 1 2 1 1 7 4 2 3 5 1 2 4 4 6 3 5 5 6 0 4 1 9 5 7 8 9 3 7 4 6 4 3 0 7 0\n",
              "   [73] 2 9 1 7 3 2 9 7 7 6 2 7 8 4 7 3 6 1 3 6 9 3 1 4 1 7 6 9 6 0 5 4 9 9 2 1\n",
              "  [109] 9 4 8 7 3 9 7 4 4 4 9 2 5 4 7 6 7 9 0 5 8 5 6 6 5 7 8 1 0 1 6 4 6 7 3 1\n",
              "  [145] 7 1 8 2 0 2 9 9 5 5 1 5 6 0 3 4 4 6 5 4 6 5 4 5 1 4 4 7 2 3 2 7 1 8 1 8\n",
              "  [181] 1 8 5 0 8 9 2 5 0 1 1 1 0 9 0 3 1 6 4 2 3 6 1 1 1 3 9 5 2 9 4 5 9 3 9 0\n",
              "  [217] 3 6 5 5 7 2 2 7 1 2 8 4 1 7 3 3 8 8 7 9 2 2 4 1 5 9 8 7 2 3 0 2 4 2 4 1\n",
              "  [253] 9 5 7 7 2 8 2 0 8 5 7 7 9 1 8 1 8 0 3 0 1 9 9 4 1 8 2 1 2 9 7 5 9 2 6 4\n",
              "  [289] 1 5 8 2 9 2 0 4 0 0 2 8 4 7 1 2 4 0 2 7 4 3 3 0 0 3 1 9 6 5 2 5 8 7 9 3\n",
              "  [325] 0 4 2 0 7 1 1 2 1 5 3 3 9 7 8 6 3 6 1 3 8 1 0 5 1 3 1 5 5 6 1 8 5 1 7 9\n",
              "  [361] 4 6 2 2 5 0 6 5 6 3 7 2 0 8 8 5 4 1 1 4 0 3 3 7 6 1 6 2 1 9 2 8 6 1 9 5\n",
              "  [397] 2 5 4 4 2 8 3 8 2 4 5 0 3 1 7 7 5 7 9 7 1 9 2 1 4 2 9 2 0 4 9 1 4 8 1 8\n",
              "  [433] 4 5 9 8 8 3 7 6 0 0 3 0 2 0 6 4 9 3 3 3 2 3 9 1 2 6 8 0 5 6 6 6 3 8 8 2\n",
              "  [469] 7 5 8 9 6 1 8 4 1 2 5 9 1 9 7 5 4 0 8 9 9 1 0 5 2 3 7 8 9 4 0 6 3 9 5 2\n",
              "  [505] 1 3 1 3 6 5 7 4 2 2 6 3 2 6 5 4 8 9 7 1 3 0 3 8 3 1 9 3 4 4 6 4 2 1 8 2\n",
              "  [541] 5 4 8 8 4 0 0 2 3 2 7 7 0 8 7 4 4 7 9 6 9 0 9 8 0 4 6 0 6 3 5 4 8 3 3 9\n",
              "  [577] 3 3 3 7 8 0 2 8 1 7 0 6 5 4 3 8 0 9 6 3 8 0 9 9 6 8 6 8 5 7 8 6 0 2 4 0\n",
              "  [613] 2 2 3 1 9 7 5 8 0 8 4 6 2 6 7 9 3 2 9 8 2 2 9 2 7 3 5 9 1 8 0 2 0 5 2 1\n",
              "  [649] 3 7 6 7 1 2 5 8 0 3 7 2 4 0 9 1 8 6 7 7 4 3 4 9 1 9 5 1 7 3 9 7 6 9 1 3\n",
              "  [685] 3 8 3 3 6 7 2 4 5 8 5 1 1 4 4 3 1 0 7 7 0 7 9 4 4 8 5 5 4 0 8 2 1 6 8 4\n",
              "  [721] 8 0 4 0 6 1 7 3 2 6 7 2 6 9 3 1 4 6 2 5 9 2 0 6 2 1 7 3 4 1 0 5 4 3 1 1\n",
              "  [757] 7 4 9 9 4 8 4 0 2 4 5 1 1 6 4 7 1 9 4 2 4 1 5 5 3 8 3 1 4 5 6 8 9 4 1 5\n",
              "  [793] 3 8 0 3 2 5 1 2 8 3 4 4 0 8 8 3 3 1 2 3 5 9 6 3 2 6 1 3 6 0 7 2 1 7 1 4\n",
              "  [829] 2 4 2 1 7 9 6 1 1 2 4 8 1 7 7 4 8 0 7 3 1 3 1 0 7 7 0 3 5 5 2 7 6 6 9 2\n",
              "  [865] 8 3 5 2 2 5 6 0 8 2 9 2 8 8 8 8 7 4 9 5 0 6 6 3 2 1 3 2 2 9 3 0 0 5 7 8\n",
              "  [901] 3 4 4 6 0 2 9 1 4 7 4 7 3 9 8 8 4 7 1 2 1 2 2 3 2 3 2 3 9 1 7 4 0 3 5 5\n",
              "  [937] 8 6 3 2 6 7 6 6 3 2 7 8 1 1 7 5 6 4 9 5 2 3 3 4 7 8 9 1 1 0 9 1 4 4 5 4\n",
              "  [973] 0 6 2 2 3 1 5 1 2 0 3 8 1 2 6 7 1 6 2 3 9 0 1 2 2 0 8 9 9 0 2 5 1 9 7 8\n",
              " [1009] 1 0 4 1 7 9 5 4 2 6 8 1 3 7 5 4 4 1 8 1 3 8 1 2 5 8 0 6 2 1 1 2 1 5 3 4\n",
              " [1045] 6 9 5 0 9 2 2 4 8 2 1 7 2 4 9 4 4 0 3 9 2 2 3 3 8 3 5 7 3 5 8 1 2 4 4 6\n",
              " [1081] 4 9 5 1 0 6 9 5 9 5 9 7 3 8 0 3 7 1 3 6 7 2 5 9 7 9 6 9 6 3 7 4 6 5 3 5\n",
              " [1117] 4 7 8 7 8 0 7 6 8 8 7 3 3 1 9 5 2 7 3 5 1 1 2 1 4 7 4 7 5 4 5 4 0 8 3 6\n",
              " [1153] 9 6 0 2 7 4 4 4 4 6 6 4 7 9 3 4 5 5 8 7 3 7 2 7 0 2 4 1 1 6 8 9 2 8 7 2\n",
              " [1189] 0 1 5 0 9 1 7 0 6 0 8 6 8 1 8 0 3 3 7 2 3 6 2 1 6 1 1 3 7 9 0 8 0 5 4 0\n",
              " [1225] 2 8 2 2 3 8 4 0 9 5 8 5 1 2 1 3 1 7 9 5 7 2 0 5 8 8 6 2 5 4 1 9 2 1 5 8\n",
              " [1261] 7 0 2 4 4 3 6 8 8 2 4 0 5 0 4 4 7 9 3 4 1 5 9 7 3 5 8 8 0 5 3 3 6 6 0 1\n",
              " [1297] 6 0 3 5 4 4 1 2 9 1 4 6 9 9 3 9 8 4 4 3 1 3 1 0 8 7 9 4 8 8 7 9 8 1 4 5\n",
              " [1333] 6 0 5 2 2 2 1 5 5 2 4 9 6 2 7 7 2 2 1 1 2 8 3 7 2 4 1 7 1 7 6 7 8 2 7 3\n",
              " [1369] 1 7 5 8 2 6 2 2 5 6 5 0 9 2 4 3 3 9 7 6 6 8 0 4 1 3 8 2 9 1 8 0 6 7 2 1\n",
              " [1405] 0 5 5 2 0 2 2 0 2 4 7 8 0 9 9 4 6 5 4 9 1 8 3 4 9 9 1 2 2 8 1 9 6 4 0 9\n",
              " [1441] 4 8 3 8 6 0 2 5 1 9 6 2 9 4 0 9 6 0 6 2 5 4 2 3 8 4 5 5 0 3 8 5 3 5 8 6\n",
              " [1477] 5 7 6 3 3 9 6 1 1 2 9 0 4 3 3 6 9 5 7 3 7 7 7 8 3 9 8 3 0 7 2 7 9 4 5 4\n",
              " [1513] 9 3 2 1 4 0 2 3 7 5 9 8 8 5 0 1 1 4 7 3 9 0 0 0 6 6 2 3 7 8 4 7 7 9 2 4\n",
              " [1549] 1 6 5 2 4 3 8 1 8 4 0 9 8 4 8 7 7 0 7 8 8 4 0 4 8 8 2 4 7 6 6 6 4 7 1 8\n",
              " [1585] 8 2 3 6 3 0 0 3 7 6 9 7 9 9 5 4 3 3 6 1 2 3 7 3 3 2 0 3 3 8 4 3 6 3 5 0\n",
              " [1621] 2 6 9 0 7 4 6 9 3 5 1 9 6 1 4 5 4 5 0 5 9 5 2 1 2 9 1 9 9 4 0 8 4 5 2 9\n",
              " [1657] 2 1 2 1 7 3 6 8 8 4 9 1 9 8 5 7 5 1 1 8 6 5 2 4 4 7 2 3 5 6 8 8 6 2 3 1\n",
              " [1693] 0 5 8 9 2 9 6 7 0 4 8 7 1 7 4 1 0 9 7 2 0 0 9 1 7 0 7 8 4 7 2 0 4 6 0 3\n",
              " [1729] 1 1 3 3 3 6 7 4 1 5 3 0 8 7 3 9 6 9 3 5 0 2 7 2 5 1 2 5 8 0 8 8 1 5 0 3\n",
              " [1765] 0 3 1 4 0 3 7 2 7 1 8 0 7 0 4 3 1 9 8 7 7 1 4 9 9 3 8 1 7 9 0 2 0 3 3 7\n",
              " [1801] 6 9 2 3 3 7 7 0 0 7 5 2 9 8 7 4 4 2 6 6 1 9 6 8 2 9 0 8 5 1 1 6 3 5 1 1\n",
              " [1837] 1 3 1 2 3 0 2 0 1 3 5 5 7 4 8 9 6 9 6 8 3 6 6 8 5 1 4 2 4 4 5 1 1 9 0 2\n",
              " [1873] 4 9 5 7 1 8 3 5 6 9 8 7 1 1 6 7 6 3 2 2 0 8 9 2 5 1 0 8 1 4 5 7 9 6 9 0\n",
              " [1909] 6 1 5 5 8 8 8 2 6 5 0 7 4 6 1 3 4 7 3 2 3 4 2 5 2 7 1 7 2 6 4 1 5 7 8 6\n",
              " [1945] 0 1 8 2 5 7 7 6 9 3 5 8 4 2 4 0 8 8 3 4 9 2 7 5 8 6 5 6 0 8 6 7 3 6 4 9\n",
              " [1981] 4 6 6 3 2 4 1 0 1 4 6 2 9 1 1 0 6 3 9 5 6 5 6 5 3 4 6 4 3 9 1 3 4 1 9 1\n",
              " [2017] 2 1 1 9 3 5 4 0 7 3 6 1 7 5 5 3 3 0 1 3 7 5 8 6 5 1 0 8 2 3 4 6 7 9 8 1\n",
              " [2053] 8 9 9 2 8 6 2 7 0 0 6 7 5 8 6 0 9 3 7 1 3 5 4 3 3 5 5 6 3 0 2 3 4 2 3 0\n",
              " [2089] 9 9 4 7 2 1 4 7 0 6 0 8 5 2 8 5 7 3 0 8 2 7 2 8 2 5 5 7 6 4 0 8 4 8 2 7\n",
              " [2125] 4 5 2 0 3 9 9 6 7 2 5 1 1 1 2 3 6 7 8 7 6 4 8 9 4 8 6 3 8 3 1 0 6 2 2 5\n",
              " [2161] 6 9 8 8 1 4 1 7 8 4 6 1 8 4 3 1 2 8 0 8 5 9 2 4 2 0 2 7 0 9 0 2 5 7 6 7\n",
              " [2197] 9 4 2 6 2 4 4 8 0 4 4 5 8 0 6 8 9 8 5 6 9 0 4 8 7 1 3 4 5 8 0 9 1 3 3 6\n",
              " [2233] 9 8 7 1 0 5 7 1 7 5 2 7 9 1 8 5 2 4 9 4 7 2 2 3 4 9 1 9 2 1 7 9 4 4 1 6\n",
              " [2269] 7 2 7 8 0 1 9 7 1 1 7 5 3 3 5 1 3 7 6 1 3 8 7 5 9 0 0 0 2 8 8 2 3 7 1 3\n",
              " [2305] 0 3 4 4 3 8 9 2 3 9 7 1 1 7 0 4 9 6 5 9 1 3 0 2 0 0 4 6 7 0 7 1 4 6 4 5\n",
              " [2341] 4 9 9 1 7 9 5 3 3 8 2 3 6 2 2 1 1 1 1 1 6 9 8 4 3 7 1 6 4 5 0 4 7 4 2 4\n",
              " [2377] 0 7 0 1 9 8 8 6 0 0 4 1 6 8 2 2 3 8 4 8 2 2 1 7 5 4 4 0 4 3 9 7 3 1 0 1\n",
              " [2413] 2 5 4 2 1 0 1 8 9 1 4 8 3 8 9 3 6 2 8 3 2 2 1 0 4 2 9 2 4 3 7 9 1 5 2 4\n",
              " [2449] 9 0 3 8 5 3 6 0 9 4 6 2 5 0 0 7 4 6 6 8 6 6 8 6 9 1 7 2 5 9 9 0 7 2 7 6\n",
              " [2485] 7 0 6 5 4 4 7 2 0 9 9 2 2 9 4 4 2 3 3 2 1 7 0 7 6 4 1 3 8 7 4 5 9 2 5 1\n",
              " [2521] 8 7 3 7 1 5 5 0 9 1 4 0 6 3 3 6 0 4 9 7 5 1 6 8 9 5 5 7 9 3 8 3 8 1 5 3\n",
              " [2557] 5 0 5 5 3 8 6 7 7 7 3 7 0 5 9 0 2 5 5 3 1 7 7 8 6 5 9 3 8 9 5 3 7 9 1 7\n",
              " [2593] 0 0 3 7 2 5 8 1 8 6 2 9 5 7 5 7 8 6 2 5 1 4 8 4 5 8 3 0 6 2 7 3 3 2 1 0\n",
              " [2629] 7 3 4 0 3 9 3 2 8 9 0 3 8 0 7 6 5 4 7 3 5 0 8 6 2 5 1 1 0 0 4 4 0 1 2 3\n",
              " [2665] 2 7 7 8 5 2 5 7 6 9 1 4 1 6 4 2 4 3 5 4 3 9 5 0 1 5 3 8 9 1 9 7 9 5 5 2\n",
              " [2701] 7 4 6 0 1 1 1 0 4 4 7 6 3 0 0 4 3 0 6 1 9 6 1 3 8 1 2 5 6 2 7 3 6 0 1 9\n",
              " [2737] 7 6 6 8 9 2 9 8 8 3 1 0 0 7 6 6 2 1 6 9 3 1 8 6 9 0 6 0 0 0 6 3 5 9 3 4\n",
              " [2773] 5 5 8 5 3 0 4 0 2 9 6 8 2 3 1 2 1 1 5 6 9 8 0 6 6 5 5 3 8 6 2 1 4 5 4 3\n",
              " [2809] 7 8 3 0 9 3 5 1 1 0 4 4 7 0 1 7 0 1 6 1 4 5 6 6 5 7 8 4 4 7 2 5 3 7 0 7\n",
              " [2845] 7 9 6 4 2 8 5 7 8 3 9 5 8 9 9 8 6 2 8 9 2 3 6 1 1 8 9 3 4 0 7 9 6 4 1 4\n",
              " [2881] 1 3 4 9 3 1 4 7 7 4 7 2 9 3 0 8 8 8 4 0 4 4 1 5 2 8 3 4 9 5 2 8 1 5 3 3\n",
              " [2917] 9 4 2 5 6 8 5 9 3 5 9 2 1 9 5 3 0 6 9 8 4 0 4 7 2 9 0 1 0 3 1 6 5 8 1 5\n",
              " [2953] 3 5 0 3 5 5 9 2 8 7 0 4 9 1 9 7 7 5 3 2 0 9 1 8 6 2 3 9 6 2 1 9 1 3 5 5\n",
              " [2989] 0 3 8 3 3 7 6 6 0 1 4 0 6 9 8 1 2 9 9 5 9 7 3 7 8 0 1 3 0 4 6 1 0 2 5 8\n",
              " [3025] 4 4 1 1 5 4 6 6 0 6 9 2 6 2 7 1 7 9 4 0 0 3 8 2 2 3 1 6 0 5 7 7 9 2 6 7\n",
              " [3061] 7 7 8 6 8 8 4 6 8 4 1 2 8 2 3 9 4 0 3 7 3 2 3 3 7 3 4 0 6 2 0 8 1 5 3 5\n",
              " [3097] 4 1 7 1 5 7 5 7 3 2 2 7 3 7 3 7 8 5 4 5 2 9 6 5 3 6 7 4 1 7 1 5 2 3 6 3\n",
              " [3133] 1 4 2 6 7 4 3 8 0 6 2 1 6 5 3 9 1 9 3 2 1 8 4 4 6 5 8 6 9 7 7 8 6 9 7 3\n",
              " [3169] 9 4 0 5 4 6 4 1 2 3 0 0 2 6 6 5 7 0 8 6 4 7 9 0 7 3 4 2 1 8 8 5 9 2 7 1\n",
              " [3205] 8 8 3 2 7 6 0 1 2 7 1 0 8 3 6 0 5 3 6 2 8 7 0 1 4 2 1 1 4 4 4 4 7 1 6 2\n",
              " [3241] 9 9 0 0 1 8 8 4 3 4 2 0 6 1 6 1 2 2 2 1 2 3 7 8 1 0 0 2 1 6 6 0 1 6 2 5\n",
              " [3277] 1 7 4 8 2 1 4 3 8 3 9 9 4 8 3 4 7 2 7 5 7 0 4 3 3 2 6 7 6 0 0 6 7 7 0 5\n",
              " [3313] 5 8 1 0 7 0 2 8 1 5 0 8 8 0 3 2 7 7 2 6 4 7 5 5 7 2 9 2 8 4 6 8 6 5 0 0\n",
              " [3349] 8 7 6 1 7 1 1 2 7 4 0 0 7 7 6 3 8 6 4 2 0 9 4 0 5 7 8 2 7 4 7 1 1 3 6 6\n",
              " [3385] 2 9 1 9 4 8 3 6 9 5 9 6 2 4 6 7 7 0 6 6 9 4 8 3 5 3 4 9 0 0 5 2 5 0 7 1\n",
              " [3421] 1 1 0 7 6 7 9 6 6 4 1 4 3 1 1 2 2 4 1 0 8 7 6 3 4 0 0 6 3 3 0 7 1 7 1 1\n",
              " [3457] 3 1 0 9 9 7 5 4 1 4 8 9 5 3 5 1 9 8 2 3 3 9 9 0 1 0 2 9 3 9 3 3 6 2 9 9\n",
              " [3493] 8 3 7 4 0 4 7 8 4 9 8 1 9 7 5 9 2 8 2 2 0 2 2 3 8 4 6 8 4 8 2 4 6 7 9 3\n",
              " [3529] 3 9 4 3 1 4 4 7 0 5 9 6 0 4 4 4 4 6 1 2 3 3 6 4 5 9 6 8 5 6 0 8 6 4 1 8\n",
              " [3565] 6 5 2 5 4 5 5 4 7 7 0 7 8 2 2 3 7 0 1 8 0 7 1 9 8 7 5 5 9 1 7 5 4 3 1 2\n",
              " [3601] 2 1 6 6 7 1 1 4 0 7 4 2 4 0 6 4 7 6 9 5 3 4 6 5 0 1 8 8 2 8 3 5 7 8 0 8\n",
              " [3637] 5 7 1 1 0 1 3 7 8 5 0 7 1 1 0 1 1 4 5 2 7 6 2 3 0 2 8 5 9 6 9 7 2 1 3 6\n",
              " [3673] 4 1 8 2 4 0 5 1 0 3 2 6 4 4 3 9 6 1 6 5 7 9 2 0 2 6 0 1 4 3 5 2 8 8 0 8\n",
              " [3709] 8 9 0 9 6 7 6 3 9 3 4 7 7 7 4 9 0 6 4 8 4 2 7 2 8 1 0 0 7 8 3 3 3 1 3 7\n",
              " [3745] 6 1 3 1 6 6 5 2 4 7 5 9 5 8 4 9 9 1 6 5 0 1 3 7 0 3 4 8 2 2 0 2 8 1 5 1\n",
              " [3781] 6 8 8 9 1 2 1 3 5 1 0 9 4 4 8 3 2 5 9 7 6 6 2 0 0 0 5 8 3 1 5 3 3 8 5 1\n",
              " [3817] 8 2 6 4 9 9 6 2 3 3 5 6 4 8 0 9 2 8 3 6 7 5 7 2 9 4 9 1 2 8 6 0 7 0 9 1\n",
              " [3853] 1 5 7 5 9 9 1 9 5 9 2 5 0 4 1 0 8 9 0 8 9 8 9 4 2 5 7 9 8 9 8 0 9 9 6 8\n",
              " [3889] 9 9 5 9 8 6 1 0 3 3 5 2 1 6 5 0 2 8 2 5 6 2 3 0 2 2 6 4 3 5 5 1 7 2 1 6\n",
              " [3925] 9 1 3 9 5 5 1 6 2 2 8 6 7 1 4 6 0 6 0 5 3 2 2 3 6 8 9 8 5 3 8 5 4 5 2 0\n",
              " [3961] 5 6 3 2 8 3 9 9 5 7 9 4 6 7 1 3 3 3 6 6 0 9 0 1 9 9 2 8 8 0 1 6 9 7 5 3\n",
              " [3997] 4 7 4 9 9 4 3 6 3 1 1 7 6 9 1 8 4 1 1 9 9 4 3 6 8 1 6 0 4 1 3 1 7 4 9 5\n",
              " [4033] 1 0 0 1 1 6 2 1 9 8 4 0 3 6 4 9 0 7 1 6 5 7 5 2 5 1 8 5 4 7 0 6 7 2 2 5\n",
              " [4069] 8 1 0 4 5 7 1 8 5 1 3 0 0 6 0 7 3 1 8 3 9 7 0 0 8 9 5 9 8 3 2 7 2 9 7 2\n",
              " [4105] 1 1 3 7 5 3 1 9 8 2 2 2 8 8 5 7 3 8 9 8 8 6 8 2 3 9 7 5 6 2 9 2 8 8 1 6\n",
              " [4141] 2 8 7 9 1 8 0 1 7 2 0 7 5 1 9 0 2 0 9 8 6 2 3 9 3 8 0 2 1 1 1 1 4 2 9 7\n",
              " [4177] 7 5 1 1 2 1 9 9 9 1 0 2 0 2 1 1 4 6 4 1 5 4 9 7 7 1 5 6 2 2 2 8 0 6 9 6\n",
              " [4213] 1 9 7 7 1 4 8 5 3 4 3 4 7 7 5 0 7 4 8 8 1 5 3 9 5 9 3 6 9 0 3 6 3 9 8 2\n",
              " [4249] 8 1 2 8 6 8 5 5 3 9 4 9 2 5 1 5 1 4 4 1 4 4 3 5 9 1 2 2 3 3 0 2 9 0 0 9\n",
              " [4285] 9 6 0 9 3 7 8 4 1 9 9 7 2 7 9 9 5 9 5 1 1 8 3 5 1 9 5 3 5 4 9 5 9 3 1 9\n",
              " [4321] 0 9 7 5 4 9 2 0 1 0 5 1 4 9 3 3 6 1 5 2 5 2 2 0 9 2 6 6 0 1 2 0 3 0 2 5\n",
              " [4357] 5 7 9 5 3 0 8 9 5 0 3 2 5 9 0 8 8 4 5 8 8 4 5 4 8 5 4 9 2 2 1 2 6 8 8 7\n",
              " [4393] 0 3 6 6 4 3 8 8 7 2 2 0 0 9 3 9 9 1 9 8 6 6 4 2 6 9 2 8 5 4 5 7 9 9 9 2\n",
              " [4429] 1 8 3 4 0 2 8 3 9 3 4 6 5 6 2 3 9 2 6 0 0 6 1 2 8 7 9 8 2 0 4 7 7 5 0 5\n",
              " [4465] 6 4 6 7 4 3 0 7 5 0 7 4 2 0 8 9 9 4 2 4 6 7 8 7 6 9 4 1 3 7 3 0 8 7 7 6\n",
              " [4501] 1 3 9 2 2 9 2 1 8 3 2 9 6 8 4 0 1 2 8 4 5 2 7 8 1 1 3 0 3 5 7 0 3 1 9 3\n",
              " [4537] 6 3 1 7 7 3 0 8 4 8 2 6 6 2 9 7 3 9 0 9 9 6 4 2 9 7 2 1 1 6 7 4 7 5 9 6\n",
              " [4573] 8 2 1 4 4 5 7 6 1 3 2 5 9 9 3 6 1 1 4 6 9 7 2 1 5 1 4 6 3 8 1 1 0 3 1 6\n",
              " [4609] 8 4 9 0 7 3 0 2 9 0 6 6 6 3 6 7 7 2 8 6 0 8 3 0 2 9 8 5 2 5 3 8 8 0 0 1\n",
              " [4645] 9 5 1 3 9 6 0 1 4 1 7 1 2 3 7 9 7 4 9 9 3 9 2 8 2 7 1 8 0 9 1 0 1 7 7 9\n",
              " [4681] 6 9 9 9 2 1 6 1 3 5 7 1 9 7 6 4 5 7 6 6 9 9 6 3 6 2 9 8 1 2 2 5 5 2 3 7\n",
              " [4717] 2 1 0 1 0 4 5 2 8 2 8 3 5 1 7 7 1 1 2 9 7 8 4 0 5 0 7 8 8 4 7 7 8 5 8 4\n",
              " [4753] 9 8 1 3 8 0 3 1 7 1 5 5 1 6 5 7 4 9 3 5 4 7 1 2 0 8 1 6 0 7 3 4 7 3 9 6\n",
              " [4789] 0 8 6 4 8 7 7 9 3 8 6 9 7 2 3 4 0 2 1 0 3 5 5 7 2 4 4 7 2 8 3 0 8 7 8 9\n",
              " [4825] 0 8 4 4 5 8 5 6 6 3 0 9 3 7 6 8 9 3 4 9 5 8 9 1 2 8 8 6 8 1 3 7 9 0 1 1\n",
              " [4861] 9 7 0 8 1 7 4 5 7 1 2 1 1 3 9 6 2 1 2 6 8 7 6 6 9 3 7 0 5 2 8 0 5 4 3 8\n",
              " [4897] 4 6 6 2 7 9 5 1 3 2 4 3 6 1 9 4 4 7 6 5 4 1 9 9 2 7 8 0 1 3 6 1 3 4 1 1\n",
              " [4933] 1 5 6 0 7 0 7 2 3 2 5 2 2 9 4 9 8 1 2 1 6 1 2 7 8 0 0 0 8 2 2 9 2 2 1 9\n",
              " [4969] 9 2 7 5 1 3 4 9 4 1 8 5 6 2 8 3 1 2 8 4 9 9 3 7 0 7 7 2 3 2 4 0 3 9 9 8\n",
              " [5005] 4 1 0 6 0 9 6 8 6 1 1 9 8 9 2 3 5 5 9 4 2 1 9 4 3 9 6 0 4 0 6 0 1 2 3 4\n",
              " [5041] 7 8 9 0 1 2 3 4 7 8 9 0 1 2 3 4 5 6 7 8 9 8 3 4 7 8 6 3 4 0 9 7 1 9 3 8\n",
              " [5077] 4 7 3 0 9 1 4 5 4 6 4 0 6 2 1 1 1 1 7 2 4 7 5 2 9 4 5 8 4 2 9 7 0 0 7 5\n",
              " [5113] 1 1 7 6 6 6 8 2 2 7 7 4 0 2 4 2 1 8 9 6 1 0 5 9 6 9 8 0 3 0 8 3 9 6 3 0\n",
              " [5149] 1 2 3 4 5 6 7 0 1 2 3 4 5 6 7 8 9 0 1 2 3 4 5 6 7 8 5 4 8 7 4 7 7 3 9 8\n",
              " [5185] 8 3 1 5 8 2 7 4 2 1 5 4 5 5 8 6 4 4 4 1 8 7 5 5 1 8 9 1 3 6 3 3 2 2 6 9\n",
              " [5221] 9 6 5 5 3 3 8 1 6 5 6 8 1 9 7 6 8 3 7 4 7 0 9 0 0 3 7 9 3 0 2 0 1 0 1 0\n",
              " [5257] 4 0 1 0 4 7 9 6 2 6 2 2 9 9 0 1 2 3 4 5 6 7 8 9 0 1 2 3 4 5 6 7 8 9 0 1\n",
              " [5293] 2 3 4 5 6 7 8 9 8 0 5 6 6 0 8 0 2 3 7 9 4 7 1 9 1 7 1 4 0 0 4 1 7 5 7 1\n",
              " [5329] 3 3 3 6 6 9 7 4 3 0 2 5 2 6 0 8 9 4 3 5 4 8 1 5 9 0 6 4 3 6 3 3 8 1 4 7\n",
              " [5365] 5 7 2 2 0 0 1 7 7 9 5 9 8 9 6 8 8 2 3 6 1 2 9 8 9 5 2 6 2 4 8 4 6 5 0 1\n",
              " [5401] 5 6 7 8 9 0 1 2 3 4 5 6 7 8 9 0 1 2 3 4 5 6 7 8 9 7 4 2 0 9 0 1 5 8 8 0\n",
              " [5437] 2 7 8 4 4 6 1 0 4 5 3 9 4 2 0 5 0 1 3 2 9 8 6 0 1 1 8 0 4 7 7 6 3 6 0 7\n",
              " [5473] 3 5 4 2 4 1 8 3 5 6 7 0 6 7 1 2 5 8 1 9 3 8 2 8 7 6 7 1 4 6 2 9 3 0 1 2\n",
              " [5509] 3 4 5 6 7 0 1 2 3 4 5 0 1 2 8 9 1 4 0 9 5 0 8 0 7 7 1 1 2 9 3 6 7 2 3 8\n",
              " [5545] 1 2 9 8 8 7 1 7 1 1 0 3 4 2 6 4 7 4 2 7 4 9 1 0 6 8 5 5 5 3 5 9 7 4 8 5\n",
              " [5581] 9 6 9 3 0 3 8 9 1 8 1 6 0 0 1 2 3 4 5 6 7 8 9 0 1 2 3 4 5 6 7 8 9 0 1 2\n",
              " [5617] 3 4 5 6 7 8 9 3 5 3 2 9 3 2 1 4 5 5 2 3 2 1 3 9 7 2 5 2 8 9 1 8 8 7 8 1\n",
              " [5653] 0 0 7 7 8 7 5 0 6 1 5 7 4 6 1 2 5 0 7 9 9 0 3 8 2 4 8 1 8 6 5 9 0 0 0 3\n",
              " [5689] 7 1 6 4 2 6 6 0 4 5 4 1 3 8 6 3 9 9 5 9 3 7 8 5 6 4 7 6 2 2 0 9 4 0 1 2\n",
              " [5725] 3 4 5 6 7 8 9 0 1 2 7 5 6 0 1 2 3 4 5 6 8 7 1 3 2 8 0 7 5 9 9 6 0 9 4 1\n",
              " [5761] 3 2 1 2 3 8 3 2 6 5 6 8 2 7 4 8 1 8 0 5 3 9 4 1 9 2 1 9 6 7 9 0 4 6 1 7\n",
              " [5797] 3 8 7 2 9 6 5 8 3 9 0 5 7 1 6 1 0 9 3 3 4 4 0 6 2 5 4 2 3 4 6 0 0 2 0 1\n",
              " [5833] 4 5 6 7 8 9 0 1 2 3 4 5 6 7 8 0 1 2 3 4 5 6 7 8 9 8 7 1 3 7 5 2 8 0 7 5\n",
              " [5869] 9 9 0 9 1 1 5 8 8 6 3 2 1 8 3 2 6 5 6 0 4 1 0 5 3 1 9 2 1 9 6 0 4 6 1 7\n",
              " [5905] 3 8 7 2 9 6 5 8 3 5 7 1 6 1 0 9 6 2 5 4 2 3 4 4 6 0 0 2 0 1 2 3 9 3 6 7\n",
              " [5941] 8 9 0 1 2 3 4 5 6 7 8 9 0 1 2 8 4 5 6 7 8 9 8 6 5 0 6 8 9 4 1 9 3 9 0 4\n",
              " [5977] 8 9 1 4 0 5 5 2 1 5 4 0 7 6 0 1 7 0 6 8 9 5 1 7 9 8 6 0 8 1 7 7 1 3 2 5\n",
              " [6013] 1 4 2 0 0 7 8 4 6 4 9 3 3 4 7 2 5 6 3 6 9 6 3 2 2 4 6 9 0 2 5 5 1 3 3 9\n",
              " [6049] 7 8 7 2 2 5 7 9 8 2 1 3 1 3 0 1 2 3 4 5 6 7 8 3 0 1 2 3 4 5 6 7 8 9 0 1\n",
              " [6085] 2 3 4 5 6 7 8 9 1 2 6 5 3 0 7 0 4 1 4 3 6 7 2 3 1 2 1 2 9 6 0 1 3 0 2 7\n",
              " [6121] 5 7 6 2 9 1 9 0 6 0 6 0 2 0 6 1 5 8 4 3 0 1 5 4 4 8 5 7 5 7 8 3 4 8 8 5\n",
              " [6157] 2 9 7 1 3 8 1 0 7 5 9 6 3 4 7 7 9 9 3 4 4 3 8 6 2 0 1 2 3 4 5 6 7 8 9 0\n",
              " [6193] 1 2 3 4 5 6 7 8 9 0 1 2 3 4 5 6 7 8 9 0 8 3 9 5 5 2 6 8 4 9 1 7 1 2 3 5\n",
              " [6229] 9 6 9 1 1 1 2 9 5 6 8 1 2 0 7 7 5 8 2 9 8 9 0 4 6 7 1 3 4 5 6 0 3 6 8 7\n",
              " [6265] 0 4 2 7 4 7 5 4 3 4 2 8 1 5 1 2 0 2 5 6 4 3 0 0 0 3 3 5 7 0 6 4 8 8 6 3\n",
              " [6301] 4 6 9 9 8 2 7 7 1 0 1 2 3 4 5 6 7 8 9 0 1 2 3 4 5 6 7 8 0 1 2 3 4 5 6 7\n",
              " [6337] 8 2 1 7 2 5 0 8 0 2 7 8 8 3 6 0 2 7 6 6 1 2 8 8 7 7 4 7 7 3 7 4 5 4 3 3\n",
              " [6373] 8 4 1 1 9 7 4 3 7 3 3 0 2 5 5 6 6 3 5 2 5 9 9 8 4 1 0 6 0 9 6 8 8 5 6 1\n",
              " [6409] 1 9 8 9 2 3 5 5 9 4 2 1 9 2 9 2 0 6 0 4 0 0 1 2 3 4 7 8 9 0 1 2 3 7 8 9\n",
              " [6445] 0 1 2 3 4 7 8 9 7 3 0 3 1 8 7 6 4 0 2 6 8 3 2 8 1 2 0 7 1 0 4 4 5 8 0 6\n",
              " [6481] 2 3 1 5 1 8 5 9 4 0 7 5 8 8 3 8 9 2 6 2 5 3 1 7 3 0 1 9 9 6 0 3 9 2 8 1\n",
              " [6517] 4 3 5 2 9 2 5 8 9 5 0 1 2 4 5 6 0 1 2 3 4 5 6 7 1 2 3 4 5 1 0 4 5 6 6 3\n",
              " [6553] 4 4 2 9 1 0 6 4 9 7 2 3 3 9 2 0 9 3 3 7 1 5 6 3 1 7 8 4 0 2 4 0 2 4 7 8\n",
              " [6589] 0 7 0 6 9 3 2 8 6 7 5 7 5 1 0 8 1 6 7 2 9 7 9 5 8 6 2 6 2 8 1 7 5 0 1 1\n",
              " [6625] 3 7 4 9 1 8 6 8 9 0 1 2 3 4 5 6 7 5 9 0 1 2 3 4 7 8 9 5 1 7 8 9 9 8 9 8\n",
              " [6661] 4 1 7 7 3 3 7 6 6 6 1 9 0 1 7 6 3 2 1 7 1 3 9 1 7 6 8 4 1 4 3 6 9 6 1 4\n",
              " [6697] 4 7 2 4 4 0 1 2 3 4 5 6 7 8 9 0 1 2 3 4 5 6 9 0 1 2 3 4 7 8 1 3 5 1 7 7\n",
              " [6733] 2 1 4 8 3 4 4 3 9 7 4 1 2 3 5 9 1 6 0 1 0 0 2 3 7 1 1 4 0 4 7 3 6 8 0 3\n",
              " [6769] 7 4 0 6 9 2 6 5 8 6 9 0 4 0 6 6 9 2 0 9 5 1 3 7 6 9 3 0 2 2 0 1 2 3 4 5\n",
              " [6805] 6 7 8 9 0 1 2 3 4 5 6 7 8 9 0 1 2 3 4 5 6 7 8 9 2 1 7 2 5 0 8 0 2 7 8 8\n",
              " [6841] 3 0 6 0 2 7 6 6 1 2 8 8 7 7 4 7 7 3 7 4 5 4 3 3 8 4 5 4 1 1 9 7 4 3 7 3\n",
              " [6877] 3 0 2 5 5 6 3 1 5 2 5 9 9 8 4 1 0 6 0 9 6 8 8 5 6 1 1 9 8 9 2 3 5 5 9 4\n",
              " [6913] 2 1 9 4 9 1 3 9 2 0 6 0 4 0 6 0 1 2 3 4 5 6 7 8 9 0 1 2 3 4 5 6 7 8 9 0\n",
              " [6949] 1 2 3 4 5 6 7 8 9 3 8 0 7 1 0 7 5 5 6 9 0 1 0 0 8 3 4 3 1 5 0 0 9 5 3 4\n",
              " [6985] 9 3 7 6 9 2 4 5 7 2 6 4 9 4 9 4 1 2 2 5 8 1 3 2 9 4 3 8 2 2 1 2 8 6 5 1\n",
              " [7021] 6 7 2 1 3 9 3 8 7 5 7 0 7 4 8 8 5 0 6 6 3 7 6 9 9 4 8 4 1 0 6 6 0 1 2 3\n",
              " [7057] 4 5 6 7 8 9 0 1 2 3 4 5 6 7 8 9 0 1 2 3 4 5 6 7 8 9 7 4 0 4 0 1 7 9 5 1\n",
              " [7093] 4 2 8 9 4 3 7 8 2 4 4 3 3 6 9 9 5 8 6 7 0 6 8 2 6 3 9 3 2 8 6 1 7 4 8 8\n",
              " [7129] 9 0 3 3 9 0 5 2 9 4 1 0 3 7 5 8 7 7 8 2 9 7 1 2 6 4 2 5 2 3 6 6 5 0 0 2\n",
              " [7165] 8 1 6 1 0 4 3 1 6 1 9 0 1 4 5 6 7 8 9 1 2 3 4 5 6 7 0 1 2 3 4 5 6 7 8 9\n",
              " [7201] 8 4 0 0 7 2 4 3 8 6 6 3 2 6 3 3 6 1 4 7 8 0 3 1 9 0 1 9 1 2 7 0 1 3 8 2\n",
              " [7237] 9 2 7 6 5 5 9 9 8 2 9 1 3 2 3 4 3 1 9 0 9 3 6 8 7 0 1 0 5 8 2 7 7 0 1 2\n",
              " [7273] 3 4 5 6 7 8 9 0 1 2 3 4 5 6 7 8 9 0 1 2 3 4 5 6 7 8 9 1 7 4 8 1 5 6 5 7\n",
              " [7309] 2 8 6 3 3 8 6 5 4 0 9 1 7 2 9 1 5 1 3 2 2 3 0 6 4 3 7 6 9 0 4 8 1 4 0 6\n",
              " [7345] 1 2 6 9 2 2 3 5 5 1 0 7 7 9 6 2 9 4 7 0 2 3 4 0 0 8 8 8 5 1 3 7 4 9 8 8\n",
              " [7381] 9 0 9 8 9 0 2 6 5 6 7 4 7 5 4 1 3 5 3 1 2 3 4 5 6 1 2 3 4 6 0 1 2 4 5 6\n",
              " [7417] 7 8 1 7 2 4 1 4 1 4 9 6 8 4 5 3 7 8 8 3 3 5 6 7 0 6 1 6 8 7 0 1 5 0 8 5\n",
              " [7453] 0 1 5 8 4 2 3 9 7 6 9 1 9 0 6 7 1 2 3 9 2 4 5 5 3 7 5 3 1 8 2 2 3 0 2 9\n",
              " [7489] 4 9 7 0 2 7 4 9 9 2 5 9 8 3 8 6 7 0 0 1 2 3 4 5 6 7 8 9 0 1 2 3 4 5 6 7\n",
              " [7525] 8 9 0 1 2 3 4 5 6 7 8 9 0 0 7 2 6 5 5 3 7 8 6 6 6 6 4 3 8 8 3 0 1 9 0 5\n",
              " [7561] 4 1 9 1 2 7 0 1 3 8 2 9 2 7 4 2 6 5 5 9 9 1 1 5 7 6 8 2 9 4 3 1 9 0 9 3\n",
              " [7597] 6 8 7 0 1 0 5 8 2 7 7 0 1 2 3 4 5 6 7 8 9 0 1 2 3 4 5 8 9 0 1 2 3 4 5 6\n",
              " [7633] 7 8 9 2 1 2 1 3 9 9 8 5 3 7 0 7 7 5 7 9 9 4 7 0 3 4 1 5 8 1 4 8 4 1 8 6\n",
              " [7669] 6 4 6 0 5 5 3 3 5 7 2 5 9 6 9 2 6 2 1 2 0 8 3 8 3 0 8 7 4 9 5 0 9 7 0 0\n",
              " [7705] 4 6 0 9 1 6 2 7 6 8 3 5 2 1 8 3 8 6 1 0 2 1 4 0 1 2 3 4 5 6 7 8 9 0 1 2\n",
              " [7741] 3 4 5 6 7 8 9 0 1 2 3 4 5 6 7 8 9 7 6 4 7 6 2 3 4 8 7 8 6 9 8 3 2 2 8 4\n",
              " [7777] 8 5 6 5 0 2 0 1 1 2 9 6 8 2 1 0 6 5 2 9 7 5 3 9 2 7 1 8 3 8 1 9 5 5 0 1\n",
              " [7813] 1 9 8 2 6 0 4 5 0 3 1 8 6 7 5 9 9 3 0 3 1 4 4 0 4 9 0 1 2 3 5 6 7 8 0 1\n",
              " [7849] 2 3 5 6 7 8 9 0 1 2 3 5 6 7 8 9 9 7 0 9 0 1 5 8 8 0 9 3 4 7 8 4 6 1 0 4\n",
              " [7885] 9 4 2 0 5 0 1 6 9 3 2 9 1 6 0 8 1 8 7 7 6 3 6 0 7 2 4 1 7 0 6 7 1 2 5 8\n",
              " [7921] 1 6 2 8 7 6 8 7 1 6 2 9 3 0 1 2 3 4 5 6 7 8 9 0 1 2 3 4 5 6 7 8 9 0 1 2\n",
              " [7957] 3 4 5 6 7 8 9 8 9 5 7 0 3 1 6 8 4 1 5 6 4 2 7 8 1 3 4 3 4 7 2 0 5 0 1 9\n",
              " [7993] 2 3 2 3 5 5 7 8 4 9 9 7 1 1 9 0 7 8 3 4 8 6 3 8 0 9 6 2 1 0 1 0 6 2 3 8\n",
              " [8029] 9 0 7 2 3 4 5 5 2 8 5 4 6 6 6 7 9 1 8 2 1 5 3 4 7 9 4 0 0 0 1 2 3 4 5 6\n",
              " [8065] 7 8 9 0 1 2 3 4 5 6 7 8 9 0 1 2 3 4 5 6 9 0 1 3 1 5 1 2 4 9 8 4 6 8 0 1\n",
              " [8101] 1 9 2 6 6 8 7 4 2 9 7 0 2 1 0 3 6 0 1 2 3 4 5 6 7 8 9 0 1 2 3 4 5 6 7 8\n",
              " [8137] 9 0 1 2 3 4 5 6 7 8 9 8 6 5 9 7 0 2 3 4 3 8 5 1 5 2 3 0 1 2 1 3 2 6 5 3\n",
              " [8173] 0 7 2 7 4 6 4 0 5 9 9 8 9 5 3 1 7 4 7 6 5 4 0 0 6 6 2 0 6 3 7 7 4 4 3 9\n",
              " [8209] 2 8 9 6 0 9 5 3 8 8 7 1 4 0 4 8 5 2 3 9 0 1 9 1 5 1 7 4 8 6 2 1 6 8 8 0\n",
              " [8245] 1 2 3 4 7 8 9 0 1 2 3 4 6 7 8 9 0 1 2 3 4 7 8 9 1 4 5 3 3 0 9 5 4 3 0 8\n",
              " [8281] 4 6 7 0 7 7 1 6 9 1 3 6 2 3 8 2 3 8 9 5 8 8 7 1 7 1 1 0 3 4 2 6 4 7 4 2\n",
              " [8317] 7 4 2 9 2 7 9 2 1 6 6 5 3 4 8 5 9 6 9 0 6 3 0 8 1 6 0 0 1 2 3 4 5 6 7 0\n",
              " [8353] 1 2 3 4 7 8 9 0 1 2 3 4 7 2 5 1 6 4 3 9 9 0 9 7 1 6 4 3 6 2 0 9 8 6 5 7\n",
              " [8389] 0 0 1 7 4 3 2 4 1 3 7 6 4 7 7 7 9 8 4 3 6 2 8 3 5 8 0 5 4 7 1 3 1 7 9 6\n",
              " [8425] 2 0 9 1 7 3 3 9 1 6 4 3 9 8 2 1 8 6 4 1 5 5 6 5 0 1 2 3 4 5 6 7 8 9 0 1\n",
              " [8461] 2 3 4 5 6 7 8 9 0 1 2 3 4 5 6 7 8 9 6 9 7 0 2 3 4 3 8 5 1 3 0 1 2 1 3 2\n",
              " [8497] 0 7 2 6 4 0 5 9 9 8 9 5 3 1 7 4 7 0 0 6 6 6 3 7 4 2 8 9 8 7 1 4 0 4 8 5\n",
              " [8533] 2 3 9 0 1 9 1 5 1 7 6 1 2 1 6 8 0 1 2 3 4 5 6 7 8 9 0 1 2 3 4 5 6 7 8 0\n",
              " [8569] 1 2 3 5 6 7 8 1 0 4 5 6 6 3 4 4 2 8 1 0 6 4 9 7 2 9 2 0 9 3 3 9 1 5 2 3\n",
              " [8605] 1 6 7 3 7 8 4 0 2 4 0 2 4 7 8 0 7 0 6 9 3 2 4 8 6 0 5 7 5 1 0 8 1 6 7 2\n",
              " [8641] 9 7 9 5 6 5 2 6 2 8 1 7 5 5 7 3 5 0 1 1 3 8 4 9 4 5 1 8 6 8 9 0 1 2 3 4\n",
              " [8677] 5 6 7 8 9 0 1 2 3 4 5 6 7 8 9 0 1 2 3 4 5 6 7 8 9 3 5 3 2 9 3 2 1 4 5 5\n",
              " [8713] 2 3 2 1 3 9 7 2 1 2 8 9 1 8 8 7 8 1 0 0 6 7 7 8 7 5 0 6 1 5 7 4 6 1 2 5\n",
              " [8749] 0 7 9 9 0 3 4 4 8 4 1 8 6 5 9 0 0 0 3 7 1 6 4 6 0 4 5 4 1 3 8 6 3 9 9 5\n",
              " [8785] 9 3 7 8 5 6 4 7 6 2 2 0 9 4 0 1 2 3 4 5 6 7 8 9 0 1 2 3 4 5 6 7 8 9 0 1\n",
              " [8821] 2 3 4 5 6 7 8 9 6 4 2 6 4 7 5 5 4 7 2 9 3 9 3 8 2 0 9 5 6 0 1 0 6 5 3 5\n",
              " [8857] 3 8 0 0 3 4 1 5 3 0 8 3 0 6 2 7 8 1 7 1 3 8 5 4 2 0 9 7 6 7 4 1 6 2 6 7\n",
              " [8893] 1 9 8 0 6 9 4 9 9 6 2 3 7 1 9 2 2 5 3 7 8 0 1 2 3 4 7 8 9 0 1 2 3 4 7 8\n",
              " [8929] 9 0 1 7 8 9 8 9 2 6 1 3 5 4 8 2 6 4 3 4 5 9 2 0 3 9 4 9 7 3 8 7 4 4 9 8\n",
              " [8965] 5 8 2 6 6 2 3 1 3 2 7 3 1 9 0 1 1 3 5 0 7 8 1 5 1 4 6 0 0 4 9 1 6 6 9 0\n",
              " [9001] 7 6 1 1 0 1 2 3 4 2 2 3 4 5 6 2 0 1 2 2 8 6 3 9 2 1 9 3 9 6 1 7 2 4 4 5\n",
              " [9037] 7 0 0 1 6 6 8 2 7 7 2 4 2 1 6 1 0 6 9 8 3 9 6 3 0 1 2 3 4 5 6 7 8 9 0 1\n",
              " [9073] 2 3 4 5 6 7 8 9 0 1 2 3 4 5 6 7 8 9 1 6 8 9 9 0 1 2 4 4 3 7 4 4 4 0 3 8\n",
              " [9109] 7 5 8 2 1 7 5 3 8 5 2 5 1 1 6 2 1 3 8 6 4 2 6 2 5 5 0 2 8 0 6 8 1 7 9 1\n",
              " [9145] 9 2 6 7 6 6 8 7 4 9 2 1 3 3 0 5 5 8 0 3 7 9 7 0 2 7 9 1 7 8 0 3 5 3 6 0\n",
              " [9181] 1 2 3 4 5 6 7 8 9 0 1 2 3 4 5 6 7 8 9 0 1 2 3 4 7 8 9 6 4 2 6 4 7 8 9 2\n",
              " [9217] 9 3 9 3 0 0 1 0 4 2 6 3 5 3 0 3 4 1 5 3 0 8 3 0 6 1 7 8 0 9 2 6 7 1 9 6\n",
              " [9253] 9 4 9 9 6 7 1 2 5 3 7 8 0 1 2 4 5 6 7 8 9 0 1 3 4 5 6 7 8 0 1 3 4 7 8 9\n",
              " [9289] 7 5 5 1 9 9 7 1 0 0 5 9 7 1 7 2 2 3 6 8 3 2 0 0 6 1 7 5 8 6 2 9 4 8 8 7\n",
              " [9325] 1 0 8 7 7 5 8 5 3 4 6 1 1 5 5 0 7 2 3 6 4 1 2 4 1 5 4 2 0 4 8 6 1 9 0 2\n",
              " [9361] 5 6 9 3 6 3 6 0 1 2 3 4 5 6 7 8 9 0 1 2 3 4 5 6 7 8 9 0 1 2 3 5 6 7 8 1\n",
              " [9397] 0 9 5 7 5 1 8 6 9 0 4 1 9 3 8 4 4 7 0 1 9 2 8 7 8 2 5 9 6 0 6 5 5 3 3 3\n",
              " [9433] 9 8 1 1 0 6 1 0 0 6 2 1 1 3 2 7 7 8 8 7 8 4 6 0 2 0 7 0 3 6 8 7 1 5 9 9\n",
              " [9469] 3 7 2 4 9 4 3 6 2 2 5 3 2 5 5 9 4 1 7 2 0 1 2 3 4 5 6 7 8 9 0 1 2 3 4 5\n",
              " [9505] 6 7 8 9 0 1 2 3 4 5 6 7 8 9 1 0 1 2 7 5 3 4 4 0 0 6 9 6 6 5 7 2 3 4 4 9\n",
              " [9541] 1 4 0 7 9 5 7 2 3 1 4 4 0 9 9 6 1 8 3 3 7 3 9 8 8 4 7 7 6 2 1 9 8 7 8 8\n",
              " [9577] 7 2 2 3 9 3 3 5 5 0 7 4 5 6 5 1 4 1 1 2 8 2 6 1 5 0 1 2 3 4 5 6 7 8 9 0\n",
              " [9613] 1 2 3 4 5 6 7 8 9 0 1 2 3 4 5 6 7 8 8 0 6 0 1 2 3 7 9 4 7 1 9 1 7 1 4 0\n",
              " [9649] 0 1 7 5 7 1 3 3 3 1 6 9 7 1 3 0 7 6 0 8 9 4 3 5 4 8 1 5 9 0 6 3 3 8 1 4\n",
              " [9685] 7 5 2 0 0 1 7 8 9 6 8 8 2 3 6 1 8 9 5 2 0 1 2 3 4 5 6 7 8 9 0 1 2 3 4 5\n",
              " [9721] 6 7 8 9 0 1 2 3 4 6 6 7 8 9 7 4 6 1 4 0 9 9 3 7 8 0 7 5 8 6 3 2 2 0 5 5\n",
              " [9757] 6 0 3 8 1 0 3 0 4 7 4 9 0 9 0 7 1 7 1 6 6 0 6 2 8 7 6 4 9 9 5 3 7 4 3 0\n",
              " [9793] 4 6 6 1 1 3 2 1 0 0 1 2 3 4 7 8 9 0 1 2 3 4 5 6 7 8 0 1 2 3 4 7 8 9 0 8\n",
              " [9829] 3 9 5 5 2 6 8 4 1 7 1 3 3 5 6 9 1 1 1 2 1 2 0 7 7 5 8 2 9 8 8 7 3 4 6 8\n",
              " [9865] 7 0 4 2 7 7 5 4 3 4 2 8 1 5 1 0 2 3 3 5 7 0 6 8 6 3 9 9 8 2 7 7 1 0 1 7\n",
              " [9901] 8 9 0 1 0 3 4 5 6 7 8 0 1 2 3 4 7 8 9 7 8 6 4 1 9 3 8 4 4 7 0 1 9 2 8 7\n",
              " [9937] 8 2 6 0 6 5 3 3 8 9 1 4 0 6 1 0 0 6 2 1 1 7 7 8 4 6 0 7 0 3 6 8 7 1 5 2\n",
              " [9973] 4 9 4 3 6 4 1 7 2 6 6 0 1 2 3 4 5 6 7 8 9 0 1 2 3 4 5 6"
            ],
            "text/latex": "\\begin{enumerate*}\n\\item 7\n\\item 2\n\\item 1\n\\item 0\n\\item 4\n\\item 1\n\\item 4\n\\item 9\n\\item 5\n\\item 9\n\\item 0\n\\item 6\n\\item 9\n\\item 0\n\\item 1\n\\item 5\n\\item 9\n\\item 7\n\\item 3\n\\item 4\n\\item 9\n\\item 6\n\\item 6\n\\item 5\n\\item 4\n\\item 0\n\\item 7\n\\item 4\n\\item 0\n\\item 1\n\\item 3\n\\item 1\n\\item 3\n\\item 4\n\\item 7\n\\item 2\n\\item 7\n\\item 1\n\\item 2\n\\item 1\n\\item 1\n\\item 7\n\\item 4\n\\item 2\n\\item 3\n\\item 5\n\\item 1\n\\item 2\n\\item 4\n\\item 4\n\\item 6\n\\item 3\n\\item 5\n\\item 5\n\\item 6\n\\item 0\n\\item 4\n\\item 1\n\\item 9\n\\item 5\n\\item 7\n\\item 8\n\\item 9\n\\item 3\n\\item 7\n\\item 4\n\\item 6\n\\item 4\n\\item 3\n\\item 0\n\\item 7\n\\item 0\n\\item 2\n\\item 9\n\\item 1\n\\item 7\n\\item 3\n\\item 2\n\\item 9\n\\item 7\n\\item 7\n\\item 6\n\\item 2\n\\item 7\n\\item 8\n\\item 4\n\\item 7\n\\item 3\n\\item 6\n\\item 1\n\\item 3\n\\item 6\n\\item 9\n\\item 3\n\\item 1\n\\item 4\n\\item 1\n\\item 7\n\\item 6\n\\item 9\n\\item 6\n\\item 0\n\\item 5\n\\item 4\n\\item 9\n\\item 9\n\\item 2\n\\item 1\n\\item 9\n\\item 4\n\\item 8\n\\item 7\n\\item 3\n\\item 9\n\\item 7\n\\item 4\n\\item 4\n\\item 4\n\\item 9\n\\item 2\n\\item 5\n\\item 4\n\\item 7\n\\item 6\n\\item 7\n\\item 9\n\\item 0\n\\item 5\n\\item 8\n\\item 5\n\\item 6\n\\item 6\n\\item 5\n\\item 7\n\\item 8\n\\item 1\n\\item 0\n\\item 1\n\\item 6\n\\item 4\n\\item 6\n\\item 7\n\\item 3\n\\item 1\n\\item 7\n\\item 1\n\\item 8\n\\item 2\n\\item 0\n\\item 2\n\\item 9\n\\item 9\n\\item 5\n\\item 5\n\\item 1\n\\item 5\n\\item 6\n\\item 0\n\\item 3\n\\item 4\n\\item 4\n\\item 6\n\\item 5\n\\item 4\n\\item 6\n\\item 5\n\\item 4\n\\item 5\n\\item 1\n\\item 4\n\\item 4\n\\item 7\n\\item 2\n\\item 3\n\\item 2\n\\item 7\n\\item 1\n\\item 8\n\\item 1\n\\item 8\n\\item 1\n\\item 8\n\\item 5\n\\item 0\n\\item 8\n\\item 9\n\\item 2\n\\item 5\n\\item 0\n\\item 1\n\\item 1\n\\item 1\n\\item 0\n\\item 9\n\\item 0\n\\item 3\n\\item 1\n\\item 6\n\\item 4\n\\item 2\n\\item ⋯\n\\item 0\n\\item 0\n\\item 1\n\\item 2\n\\item 3\n\\item 4\n\\item 7\n\\item 8\n\\item 9\n\\item 0\n\\item 1\n\\item 2\n\\item 3\n\\item 4\n\\item 5\n\\item 6\n\\item 7\n\\item 8\n\\item 0\n\\item 1\n\\item 2\n\\item 3\n\\item 4\n\\item 7\n\\item 8\n\\item 9\n\\item 0\n\\item 8\n\\item 3\n\\item 9\n\\item 5\n\\item 5\n\\item 2\n\\item 6\n\\item 8\n\\item 4\n\\item 1\n\\item 7\n\\item 1\n\\item 3\n\\item 3\n\\item 5\n\\item 6\n\\item 9\n\\item 1\n\\item 1\n\\item 1\n\\item 2\n\\item 1\n\\item 2\n\\item 0\n\\item 7\n\\item 7\n\\item 5\n\\item 8\n\\item 2\n\\item 9\n\\item 8\n\\item 8\n\\item 7\n\\item 3\n\\item 4\n\\item 6\n\\item 8\n\\item 7\n\\item 0\n\\item 4\n\\item 2\n\\item 7\n\\item 7\n\\item 5\n\\item 4\n\\item 3\n\\item 4\n\\item 2\n\\item 8\n\\item 1\n\\item 5\n\\item 1\n\\item 0\n\\item 2\n\\item 3\n\\item 3\n\\item 5\n\\item 7\n\\item 0\n\\item 6\n\\item 8\n\\item 6\n\\item 3\n\\item 9\n\\item 9\n\\item 8\n\\item 2\n\\item 7\n\\item 7\n\\item 1\n\\item 0\n\\item 1\n\\item 7\n\\item 8\n\\item 9\n\\item 0\n\\item 1\n\\item 0\n\\item 3\n\\item 4\n\\item 5\n\\item 6\n\\item 7\n\\item 8\n\\item 0\n\\item 1\n\\item 2\n\\item 3\n\\item 4\n\\item 7\n\\item 8\n\\item 9\n\\item 7\n\\item 8\n\\item 6\n\\item 4\n\\item 1\n\\item 9\n\\item 3\n\\item 8\n\\item 4\n\\item 4\n\\item 7\n\\item 0\n\\item 1\n\\item 9\n\\item 2\n\\item 8\n\\item 7\n\\item 8\n\\item 2\n\\item 6\n\\item 0\n\\item 6\n\\item 5\n\\item 3\n\\item 3\n\\item 8\n\\item 9\n\\item 1\n\\item 4\n\\item 0\n\\item 6\n\\item 1\n\\item 0\n\\item 0\n\\item 6\n\\item 2\n\\item 1\n\\item 1\n\\item 7\n\\item 7\n\\item 8\n\\item 4\n\\item 6\n\\item 0\n\\item 7\n\\item 0\n\\item 3\n\\item 6\n\\item 8\n\\item 7\n\\item 1\n\\item 5\n\\item 2\n\\item 4\n\\item 9\n\\item 4\n\\item 3\n\\item 6\n\\item 4\n\\item 1\n\\item 7\n\\item 2\n\\item 6\n\\item 6\n\\item 0\n\\item 1\n\\item 2\n\\item 3\n\\item 4\n\\item 5\n\\item 6\n\\item 7\n\\item 8\n\\item 9\n\\item 0\n\\item 1\n\\item 2\n\\item 3\n\\item 4\n\\item 5\n\\item 6\n\\end{enumerate*}\n",
            "text/markdown": "1. 7\n2. 2\n3. 1\n4. 0\n5. 4\n6. 1\n7. 4\n8. 9\n9. 5\n10. 9\n11. 0\n12. 6\n13. 9\n14. 0\n15. 1\n16. 5\n17. 9\n18. 7\n19. 3\n20. 4\n21. 9\n22. 6\n23. 6\n24. 5\n25. 4\n26. 0\n27. 7\n28. 4\n29. 0\n30. 1\n31. 3\n32. 1\n33. 3\n34. 4\n35. 7\n36. 2\n37. 7\n38. 1\n39. 2\n40. 1\n41. 1\n42. 7\n43. 4\n44. 2\n45. 3\n46. 5\n47. 1\n48. 2\n49. 4\n50. 4\n51. 6\n52. 3\n53. 5\n54. 5\n55. 6\n56. 0\n57. 4\n58. 1\n59. 9\n60. 5\n61. 7\n62. 8\n63. 9\n64. 3\n65. 7\n66. 4\n67. 6\n68. 4\n69. 3\n70. 0\n71. 7\n72. 0\n73. 2\n74. 9\n75. 1\n76. 7\n77. 3\n78. 2\n79. 9\n80. 7\n81. 7\n82. 6\n83. 2\n84. 7\n85. 8\n86. 4\n87. 7\n88. 3\n89. 6\n90. 1\n91. 3\n92. 6\n93. 9\n94. 3\n95. 1\n96. 4\n97. 1\n98. 7\n99. 6\n100. 9\n101. 6\n102. 0\n103. 5\n104. 4\n105. 9\n106. 9\n107. 2\n108. 1\n109. 9\n110. 4\n111. 8\n112. 7\n113. 3\n114. 9\n115. 7\n116. 4\n117. 4\n118. 4\n119. 9\n120. 2\n121. 5\n122. 4\n123. 7\n124. 6\n125. 7\n126. 9\n127. 0\n128. 5\n129. 8\n130. 5\n131. 6\n132. 6\n133. 5\n134. 7\n135. 8\n136. 1\n137. 0\n138. 1\n139. 6\n140. 4\n141. 6\n142. 7\n143. 3\n144. 1\n145. 7\n146. 1\n147. 8\n148. 2\n149. 0\n150. 2\n151. 9\n152. 9\n153. 5\n154. 5\n155. 1\n156. 5\n157. 6\n158. 0\n159. 3\n160. 4\n161. 4\n162. 6\n163. 5\n164. 4\n165. 6\n166. 5\n167. 4\n168. 5\n169. 1\n170. 4\n171. 4\n172. 7\n173. 2\n174. 3\n175. 2\n176. 7\n177. 1\n178. 8\n179. 1\n180. 8\n181. 1\n182. 8\n183. 5\n184. 0\n185. 8\n186. 9\n187. 2\n188. 5\n189. 0\n190. 1\n191. 1\n192. 1\n193. 0\n194. 9\n195. 0\n196. 3\n197. 1\n198. 6\n199. 4\n200. 2\n201. ⋯\n202. 0\n203. 0\n204. 1\n205. 2\n206. 3\n207. 4\n208. 7\n209. 8\n210. 9\n211. 0\n212. 1\n213. 2\n214. 3\n215. 4\n216. 5\n217. 6\n218. 7\n219. 8\n220. 0\n221. 1\n222. 2\n223. 3\n224. 4\n225. 7\n226. 8\n227. 9\n228. 0\n229. 8\n230. 3\n231. 9\n232. 5\n233. 5\n234. 2\n235. 6\n236. 8\n237. 4\n238. 1\n239. 7\n240. 1\n241. 3\n242. 3\n243. 5\n244. 6\n245. 9\n246. 1\n247. 1\n248. 1\n249. 2\n250. 1\n251. 2\n252. 0\n253. 7\n254. 7\n255. 5\n256. 8\n257. 2\n258. 9\n259. 8\n260. 8\n261. 7\n262. 3\n263. 4\n264. 6\n265. 8\n266. 7\n267. 0\n268. 4\n269. 2\n270. 7\n271. 7\n272. 5\n273. 4\n274. 3\n275. 4\n276. 2\n277. 8\n278. 1\n279. 5\n280. 1\n281. 0\n282. 2\n283. 3\n284. 3\n285. 5\n286. 7\n287. 0\n288. 6\n289. 8\n290. 6\n291. 3\n292. 9\n293. 9\n294. 8\n295. 2\n296. 7\n297. 7\n298. 1\n299. 0\n300. 1\n301. 7\n302. 8\n303. 9\n304. 0\n305. 1\n306. 0\n307. 3\n308. 4\n309. 5\n310. 6\n311. 7\n312. 8\n313. 0\n314. 1\n315. 2\n316. 3\n317. 4\n318. 7\n319. 8\n320. 9\n321. 7\n322. 8\n323. 6\n324. 4\n325. 1\n326. 9\n327. 3\n328. 8\n329. 4\n330. 4\n331. 7\n332. 0\n333. 1\n334. 9\n335. 2\n336. 8\n337. 7\n338. 8\n339. 2\n340. 6\n341. 0\n342. 6\n343. 5\n344. 3\n345. 3\n346. 8\n347. 9\n348. 1\n349. 4\n350. 0\n351. 6\n352. 1\n353. 0\n354. 0\n355. 6\n356. 2\n357. 1\n358. 1\n359. 7\n360. 7\n361. 8\n362. 4\n363. 6\n364. 0\n365. 7\n366. 0\n367. 3\n368. 6\n369. 8\n370. 7\n371. 1\n372. 5\n373. 2\n374. 4\n375. 9\n376. 4\n377. 3\n378. 6\n379. 4\n380. 1\n381. 7\n382. 2\n383. 6\n384. 6\n385. 0\n386. 1\n387. 2\n388. 3\n389. 4\n390. 5\n391. 6\n392. 7\n393. 8\n394. 9\n395. 0\n396. 1\n397. 2\n398. 3\n399. 4\n400. 5\n401. 6\n\n\n",
            "text/html": [
              "<style>\n",
              ".list-inline {list-style: none; margin:0; padding: 0}\n",
              ".list-inline>li {display: inline-block}\n",
              ".list-inline>li:not(:last-child)::after {content: \"\\00b7\"; padding: 0 .5ex}\n",
              "</style>\n",
              "<ol class=list-inline><li>7</li><li>2</li><li>1</li><li>0</li><li>4</li><li>1</li><li>4</li><li>9</li><li>5</li><li>9</li><li>0</li><li>6</li><li>9</li><li>0</li><li>1</li><li>5</li><li>9</li><li>7</li><li>3</li><li>4</li><li>9</li><li>6</li><li>6</li><li>5</li><li>4</li><li>0</li><li>7</li><li>4</li><li>0</li><li>1</li><li>3</li><li>1</li><li>3</li><li>4</li><li>7</li><li>2</li><li>7</li><li>1</li><li>2</li><li>1</li><li>1</li><li>7</li><li>4</li><li>2</li><li>3</li><li>5</li><li>1</li><li>2</li><li>4</li><li>4</li><li>6</li><li>3</li><li>5</li><li>5</li><li>6</li><li>0</li><li>4</li><li>1</li><li>9</li><li>5</li><li>7</li><li>8</li><li>9</li><li>3</li><li>7</li><li>4</li><li>6</li><li>4</li><li>3</li><li>0</li><li>7</li><li>0</li><li>2</li><li>9</li><li>1</li><li>7</li><li>3</li><li>2</li><li>9</li><li>7</li><li>7</li><li>6</li><li>2</li><li>7</li><li>8</li><li>4</li><li>7</li><li>3</li><li>6</li><li>1</li><li>3</li><li>6</li><li>9</li><li>3</li><li>1</li><li>4</li><li>1</li><li>7</li><li>6</li><li>9</li><li>6</li><li>0</li><li>5</li><li>4</li><li>9</li><li>9</li><li>2</li><li>1</li><li>9</li><li>4</li><li>8</li><li>7</li><li>3</li><li>9</li><li>7</li><li>4</li><li>4</li><li>4</li><li>9</li><li>2</li><li>5</li><li>4</li><li>7</li><li>6</li><li>7</li><li>9</li><li>0</li><li>5</li><li>8</li><li>5</li><li>6</li><li>6</li><li>5</li><li>7</li><li>8</li><li>1</li><li>0</li><li>1</li><li>6</li><li>4</li><li>6</li><li>7</li><li>3</li><li>1</li><li>7</li><li>1</li><li>8</li><li>2</li><li>0</li><li>2</li><li>9</li><li>9</li><li>5</li><li>5</li><li>1</li><li>5</li><li>6</li><li>0</li><li>3</li><li>4</li><li>4</li><li>6</li><li>5</li><li>4</li><li>6</li><li>5</li><li>4</li><li>5</li><li>1</li><li>4</li><li>4</li><li>7</li><li>2</li><li>3</li><li>2</li><li>7</li><li>1</li><li>8</li><li>1</li><li>8</li><li>1</li><li>8</li><li>5</li><li>0</li><li>8</li><li>9</li><li>2</li><li>5</li><li>0</li><li>1</li><li>1</li><li>1</li><li>0</li><li>9</li><li>0</li><li>3</li><li>1</li><li>6</li><li>4</li><li>2</li><li>⋯</li><li>0</li><li>0</li><li>1</li><li>2</li><li>3</li><li>4</li><li>7</li><li>8</li><li>9</li><li>0</li><li>1</li><li>2</li><li>3</li><li>4</li><li>5</li><li>6</li><li>7</li><li>8</li><li>0</li><li>1</li><li>2</li><li>3</li><li>4</li><li>7</li><li>8</li><li>9</li><li>0</li><li>8</li><li>3</li><li>9</li><li>5</li><li>5</li><li>2</li><li>6</li><li>8</li><li>4</li><li>1</li><li>7</li><li>1</li><li>3</li><li>3</li><li>5</li><li>6</li><li>9</li><li>1</li><li>1</li><li>1</li><li>2</li><li>1</li><li>2</li><li>0</li><li>7</li><li>7</li><li>5</li><li>8</li><li>2</li><li>9</li><li>8</li><li>8</li><li>7</li><li>3</li><li>4</li><li>6</li><li>8</li><li>7</li><li>0</li><li>4</li><li>2</li><li>7</li><li>7</li><li>5</li><li>4</li><li>3</li><li>4</li><li>2</li><li>8</li><li>1</li><li>5</li><li>1</li><li>0</li><li>2</li><li>3</li><li>3</li><li>5</li><li>7</li><li>0</li><li>6</li><li>8</li><li>6</li><li>3</li><li>9</li><li>9</li><li>8</li><li>2</li><li>7</li><li>7</li><li>1</li><li>0</li><li>1</li><li>7</li><li>8</li><li>9</li><li>0</li><li>1</li><li>0</li><li>3</li><li>4</li><li>5</li><li>6</li><li>7</li><li>8</li><li>0</li><li>1</li><li>2</li><li>3</li><li>4</li><li>7</li><li>8</li><li>9</li><li>7</li><li>8</li><li>6</li><li>4</li><li>1</li><li>9</li><li>3</li><li>8</li><li>4</li><li>4</li><li>7</li><li>0</li><li>1</li><li>9</li><li>2</li><li>8</li><li>7</li><li>8</li><li>2</li><li>6</li><li>0</li><li>6</li><li>5</li><li>3</li><li>3</li><li>8</li><li>9</li><li>1</li><li>4</li><li>0</li><li>6</li><li>1</li><li>0</li><li>0</li><li>6</li><li>2</li><li>1</li><li>1</li><li>7</li><li>7</li><li>8</li><li>4</li><li>6</li><li>0</li><li>7</li><li>0</li><li>3</li><li>6</li><li>8</li><li>7</li><li>1</li><li>5</li><li>2</li><li>4</li><li>9</li><li>4</li><li>3</li><li>6</li><li>4</li><li>1</li><li>7</li><li>2</li><li>6</li><li>6</li><li>0</li><li>1</li><li>2</li><li>3</li><li>4</li><li>5</li><li>6</li><li>7</li><li>8</li><li>9</li><li>0</li><li>1</li><li>2</li><li>3</li><li>4</li><li>5</li><li>6</li></ol>\n"
            ]
          },
          "metadata": {
            "tags": []
          }
        }
      ]
    },
    {
      "cell_type": "markdown",
      "metadata": {
        "id": "Dy8iRLK2nIVb",
        "colab_type": "text"
      },
      "source": [
        "Keras provides a vocabulary for building deep learning models that is simple, elegant, and intuitive. "
      ]
    }
  ]
}